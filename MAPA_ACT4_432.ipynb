{
  "nbformat": 4,
  "nbformat_minor": 0,
  "metadata": {
    "colab": {
      "provenance": [],
      "authorship_tag": "ABX9TyOY6GUxnPeT8AfM4ssheirc",
      "include_colab_link": true
    },
    "kernelspec": {
      "name": "python3",
      "display_name": "Python 3"
    },
    "language_info": {
      "name": "python"
    }
  },
  "cells": [
    {
      "cell_type": "markdown",
      "metadata": {
        "id": "view-in-github",
        "colab_type": "text"
      },
      "source": [
        "<a href=\"https://colab.research.google.com/github/MAIKYPORTILLO67/PYTHON/blob/main/MAPA_ACT4_432.ipynb\" target=\"_parent\"><img src=\"https://colab.research.google.com/assets/colab-badge.svg\" alt=\"Open In Colab\"/></a>"
      ]
    },
    {
      "cell_type": "markdown",
      "source": [
        "#ACTIVIDAD 4\n",
        "\n",
        "Alumno:Miguel Angel Portillo Attwell\n",
        "\n"
      ],
      "metadata": {
        "id": "f7A4k4y-90Hf"
      }
    },
    {
      "cell_type": "markdown",
      "source": [
        "1.- Programa en python   que lea 3 calificaciones calcule el promedio del alumno y desplegar: \n",
        "\n",
        "Si prom < 30 Repetir \n",
        "\n",
        "Si prom >=30 y prom <60 extraordinario \n",
        "\n",
        "Si prom >=60 y prom <70 suficiente \n",
        "\n",
        "Si prom >=70 y prom <80 Regular \n",
        "\n",
        "Si prom >=80 y prom <90 bien \n",
        "\n",
        "Si prom >=90 y prom <98 muy bien \n",
        "\n",
        "Si prom >=98 y prom <=100 excelente \n",
        "\n",
        "Si prom >100 Error en promedio \n",
        "\n",
        "Realizar el algoritmo optimizado"
      ],
      "metadata": {
        "id": "nF70qEgV90eE"
      }
    },
    {
      "cell_type": "code",
      "execution_count": null,
      "metadata": {
        "colab": {
          "base_uri": "https://localhost:8080/"
        },
        "id": "6kaU4FvI7uWk",
        "outputId": "0cb62dca-14a2-4ce8-fd28-f9c49326e8d2"
      },
      "outputs": [
        {
          "output_type": "stream",
          "name": "stdout",
          "text": [
            "ingrese la primera calificacion: 89\n",
            "ingrese la segunda calificacion: 78\n",
            "ingrese la tercera calificacion: 100Y\n",
            "ERROR SOLO DEBE DE INGRESAR DIGITOS\n"
          ]
        }
      ],
      "source": [
        "try:\n",
        "    cali1=float(input(\"ingrese la primera calificacion: \"))\n",
        "    cali2=float(input(\"ingrese la segunda calificacion: \"))\n",
        "    cali3=float(input(\"ingrese la tercera calificacion: \"))\n",
        "\n",
        "    promedio=(cali1+cali2+cali3)/3\n",
        "\n",
        "    if promedio <= 30:\n",
        "        print(\"Repetir\")\n",
        "    elif promedio <= 60:\n",
        "        print(\"extraordinario\")\n",
        "    elif promedio <= 70:\n",
        "        print(\"suficiente\")\n",
        "    elif promedio <= 80:\n",
        "        print(\"Regular\")\n",
        "    elif promedio <= 90:\n",
        "        print(\"bien\")\n",
        "    elif promedio <= 98:\n",
        "        print(\"muy bien\")\n",
        "    elif promedio <= 100:\n",
        "        print(\"excelente\")\n",
        "    else:\n",
        "        print(\"Error en promedio\")\n",
        "\n",
        "    print(f\"El promedio del alumno es: {promedio:.2f}\")\n",
        "\n",
        "except:\n",
        "    print(\"ERROR SOLO DEBE DE INGRESAR DIGITOS\")"
      ]
    },
    {
      "cell_type": "markdown",
      "source": [
        "2.- Programa en Python que sirva para calcular el salario semanal de un trabajador donde se obtiene como dato de entrada las horas semanales trabajadas, el salario por hora. \n",
        "\n",
        "El programa deberá calcular el salario normal, salario extra y salario total, considerando lo siguiente: \n",
        "\n",
        "Jornada Normal de 40 horas. \n",
        "El salario normal se considera las horas trabajadas menores o igual a la jornada normal\n",
        "Salario extra se considera las horas trabajadas mayores a la jornada normal y se pagan dobles las primeras 9 y triples a partir de la décima hora extra \n",
        "\n",
        "\n",
        "Nota: Desplegar todos los datos (Salario x hora, Horas Trabajadas, Salario normal, Salario extra y Salario Total)\n",
        "\n"
      ],
      "metadata": {
        "id": "_nnSDX_kAJxv"
      }
    },
    {
      "cell_type": "code",
      "source": [
        "try:\n",
        "    horas_trabajadas = int(input(\"ingresar cuantas horas trabajo: \"))\n",
        "    pago_por_hora = float(input(\"ingresar el monto por hora: \"))\n",
        "\n",
        "    horas_necesarias = 40\n",
        "    horas_extra2=pago_por_hora * 2\n",
        "    horas_extra3=pago_por_hora * 3\n",
        "\n",
        "    if horas_trabajadas <= horas_necesarias:\n",
        "        salario= pago_por_hora * horas_trabajadas\n",
        "        salario_extra=0\n",
        "    else:\n",
        "        horas_extra=horas_trabajadas - horas_necesarias\n",
        "        salario=horas_trabajadas * pago_por_hora\n",
        "        if horas_extra<=9:\n",
        "            salario_extra=horas_extra * horas_extra2\n",
        "        else:\n",
        "            salario_extra=9 * horas_extra2\n",
        "            salario_extra +=(horas_extra - 9) * horas_extra3\n",
        "\n",
        "    salario_total=salario + salario_extra\n",
        "\n",
        "    print(\"Salariopor hora: $\",pago_por_hora)\n",
        "    print(\"Horas trabajadas: \",horas_trabajadas)\n",
        "    print(\"Salario normal: $\",salario)\n",
        "    print(\"Salario extra: $\",salario_extra)\n",
        "    print(\"Salario total: $\",salario_total) \n",
        "\n",
        "except:\n",
        "    print(\"ERROR SOLO DEBE DE INGRESAR DIGITOS\")"
      ],
      "metadata": {
        "colab": {
          "base_uri": "https://localhost:8080/"
        },
        "id": "ECx4TPbRAIu8",
        "outputId": "597fa56d-b1bb-4474-8be1-7238b04153d1"
      },
      "execution_count": null,
      "outputs": [
        {
          "output_type": "stream",
          "name": "stdout",
          "text": [
            "ingresar cuantas horas trabajo: 67\n",
            "ingresar el monto por hora: 350o\n",
            "ERROR SOLO DEBE DE INGRESAR DIGITOS\n"
          ]
        }
      ]
    },
    {
      "cell_type": "markdown",
      "source": [
        "3.- Programa en Python que sirva para calcular el Total a pagar por consumo de agua, donde el dato de entrada son los M3 de agua consumidos, Tomar en cuenta que se cobra escalonada de la Siguiente manera: \n",
        "\n",
        "Rango1: 0 al 4 M3 $50 x facturación sin importar cuánto consumió en este rango \n",
        "\n",
        "Rango2: 5 a 15 M3 $8.00 x M3 \n",
        "\n",
        "Rango3: 16 a 50 M3 $10.00 x M3 \n",
        "\n",
        "Rango4: 51 M3 en adelante $11.00 x M3 \n",
        "\n",
        "Nota: Desplegar SubTotal, Iva(16%), y Total a pagar.\n",
        "\n"
      ],
      "metadata": {
        "id": "E5yU0TjTAJYB"
      }
    },
    {
      "cell_type": "code",
      "source": [
        "try:\n",
        "    m3_consumidos = float(input(\"Ingrese los M3 de agua consumidos: \"))\n",
        "\n",
        "    if m3_consumidos <= 4:\n",
        "        subtotal = 50\n",
        "    elif m3_consumidos <= 15:\n",
        "        subtotal = 50 + ((m3_consumidos - 4) * 8)\n",
        "    elif m3_consumidos <= 50:\n",
        "        subtotal = 162 + ((m3_consumidos - 15) * 10)\n",
        "    else:\n",
        "        subtotal = 662 + ((m3_consumidos - 50) * 11)\n",
        "\n",
        "    iva = subtotal * 0.16\n",
        "    total = subtotal + iva\n",
        "\n",
        "    print(\"Subtotal a pagar: $\", subtotal)\n",
        "    print(\"IVA (16%): $\", iva)\n",
        "    print(\"Total a pagar: $\", total)\n",
        "\n",
        "except:\n",
        "    print(\"ERROR SOLO DEBE DE INGRESAR DIGITOS\")"
      ],
      "metadata": {
        "colab": {
          "base_uri": "https://localhost:8080/"
        },
        "id": "nEYegWc_AEl9",
        "outputId": "00439aff-e64b-4747-e8cb-1e937791b64b"
      },
      "execution_count": null,
      "outputs": [
        {
          "output_type": "stream",
          "name": "stdout",
          "text": [
            "Ingrese los M3 de agua consumidos: 123j\n",
            "ERROR SOLO DEBE DE INGRESAR DIGITOS\n"
          ]
        }
      ]
    },
    {
      "cell_type": "markdown",
      "source": [
        "4- En la materia de Metodología de la programación se aplican 5 exámenes, calcular el promedio final de la materia donde la calificación menor de los exámenes se anula y el promedio se calcula en base a 4 exámenes.\n",
        "\n",
        "Desplegar el promedio final. y cual es la mas baja que se elimino."
      ],
      "metadata": {
        "id": "20ZFKvbZAEZp"
      }
    },
    {
      "cell_type": "code",
      "source": [
        "try:\n",
        "    num1=int(input(\"ingrese la calificaion del primer examen: \"))\n",
        "    num2=int(input(\"ingrese la calificaion del segundo examen: \"))\n",
        "    num3=int(input(\"ingrese la calificaion del tercer examen: \"))\n",
        "    num4=int(input(\"ingrese la calificaion del cuarto examen: \"))\n",
        "    num5=int(input(\"ingrese la calificaion del quinto examen: \"))\n",
        "\n",
        "    calificaciones = [num1,num2,num3,num4,num5]\n",
        "    calificaciones_ordenadas = sorted(calificaciones)\n",
        "    promedio = sum(calificaciones_ordenadas[1:]) / 4\n",
        "    print(promedio)\n",
        "\n",
        "except:\n",
        "    print(\"ERROR SOLO DEBE DE INGRESAR DIGITOS\")"
      ],
      "metadata": {
        "colab": {
          "base_uri": "https://localhost:8080/"
        },
        "id": "_-k9ly0sBsLQ",
        "outputId": "e6028981-89c8-469d-cab4-18f684f296c2"
      },
      "execution_count": null,
      "outputs": [
        {
          "output_type": "stream",
          "name": "stdout",
          "text": [
            "ingrese la calificaion del primer examen: 60\n",
            "ingrese la calificaion del segundo examen: 88\n",
            "ingrese la calificaion del tercer examen: 90\n",
            "ingrese la calificaion del cuarto examen: 100\n",
            "ingrese la calificaion del quinto examen: 78u\n",
            "ERROR SOLO DEBE DE INGRESAR DIGITOS\n"
          ]
        }
      ]
    },
    {
      "cell_type": "markdown",
      "source": [
        "5.- Programa en Python que sirva para el juego del CHINCHAMPU (Piedra, Papel, Tijera) para 1 jugador y la computadora"
      ],
      "metadata": {
        "id": "GFPuH_XnCAgW"
      }
    },
    {
      "cell_type": "code",
      "source": [
        "try:\n",
        "    import random\n",
        "\n",
        "    print(\"Bienvenido al juego de piedra, papel o tijera\")\n",
        "    print(\"Ingrese su jugada: \")\n",
        "    jugada = input(\"piedra, papel o tijera: \").lower()\n",
        "\n",
        "    if jugada != \"piedra\" and jugada != \"papel\" and jugada != \"tijera\":\n",
        "        print(\"Jugada no válida. Inténtalo de nuevo.\")\n",
        "    else:\n",
        "        print(\"Jugador seleccionó:\", jugada)\n",
        "        opciones = [\"piedra\", \"papel\", \"tijera\"]\n",
        "        computadora = random.choice(opciones)\n",
        "        print(\"Computadora seleccionó:\", computadora)\n",
        "\n",
        "        if jugada == computadora:\n",
        "            print(\"Empate!\")\n",
        "        elif jugada == \"piedra\":\n",
        "            if computadora == \"papel\":\n",
        "                print(\"La computadora gana!\")\n",
        "            else:\n",
        "                print(\"El jugador gana!\")\n",
        "        elif jugada == \"papel\":\n",
        "            if computadora == \"tijera\":\n",
        "                print(\"La computadora gana!\")\n",
        "            else:\n",
        "                print(\"El jugador gana!\")\n",
        "        else:\n",
        "            if computadora == \"piedra\":\n",
        "                print(\"La computadora gana!\")\n",
        "            else:\n",
        "                print(\"El jugador gana!\")\n",
        "\n",
        "except:\n",
        "    print(\"ERROR SOLO DEBE DE INGRESAR DIGITOS\")"
      ],
      "metadata": {
        "colab": {
          "base_uri": "https://localhost:8080/"
        },
        "id": "GJOal0s_CBdy",
        "outputId": "858e3cd3-a691-47aa-caf2-bb34ea40e5fc"
      },
      "execution_count": null,
      "outputs": [
        {
          "output_type": "stream",
          "name": "stdout",
          "text": [
            "Bienvenido al juego de piedra, papel o tijera\n",
            "Ingrese su jugada: \n",
            "piedra, papel o tijera: papei\n",
            "Jugada no válida. Inténtalo de nuevo.\n"
          ]
        }
      ]
    },
    {
      "cell_type": "markdown",
      "source": [
        "6.- Programa en Python que lea 4 números enteros desplegar cuales el menor, cual es mayor"
      ],
      "metadata": {
        "id": "KCTNnnN8Cn3G"
      }
    },
    {
      "cell_type": "code",
      "source": [
        "try:\n",
        "    num1=int(input(\"ingrese el primer numero: \"))\n",
        "    num2=int(input(\"ingrese el segundo numero: \"))\n",
        "    num3=int(input(\"ingrese el tercer numero: \"))\n",
        "    num4=int(input(\"ingrese el cuarto numero: \"))\n",
        "\n",
        "    print(\"El numero menor es : \", min(num1,num2,num3,num4))\n",
        "    print(\"El numero mayor es : \", max(num1,num2,num3,num4))\n",
        "    \n",
        "except:\n",
        "    print(\"ERROR SOLO DEBE DE INGRESAR DIGITOS\")"
      ],
      "metadata": {
        "colab": {
          "base_uri": "https://localhost:8080/"
        },
        "id": "UhTAflLaCoZq",
        "outputId": "2ecc6968-2f4c-4de8-f61c-d6527e541de2"
      },
      "execution_count": null,
      "outputs": [
        {
          "output_type": "stream",
          "name": "stdout",
          "text": [
            "ingrese el primer numero: 4\n",
            "ingrese el segundo numero: 8\n",
            "ingrese el tercer numero: 5\n",
            "ingrese el cuarto numero: 10y\n",
            "ERROR SOLO DEBE DE INGRESAR DIGITOS\n"
          ]
        }
      ]
    },
    {
      "cell_type": "markdown",
      "source": [
        "7.- Programa en Python que sirva para calcular el área de un triangulo, los datos de entrada deben ser forzosamente de tipo real"
      ],
      "metadata": {
        "id": "9HULxlCsCoyG"
      }
    },
    {
      "cell_type": "code",
      "source": [
        "try:\n",
        "    base=float(input(\"ingrese la medida de la base del triangulo: \"))\n",
        "    altura=float(input(\"ingrese la medida de la altura del triangulo: : \"))\n",
        "\n",
        "    area=(base * altura)/2\n",
        "\n",
        "    print(f\"El area del triangulo es de: {area:.2f}\")\n",
        "    \n",
        "except:\n",
        "    print(\"ERROR SOLO DEBE DE INGRESAR DIGITOS\")"
      ],
      "metadata": {
        "colab": {
          "base_uri": "https://localhost:8080/"
        },
        "id": "cjXdxV3DCpJt",
        "outputId": "c591b1fd-e68d-462a-eeab-4f70c9699863"
      },
      "execution_count": null,
      "outputs": [
        {
          "output_type": "stream",
          "name": "stdout",
          "text": [
            "ingrese la medida de la base del triangulo: 12.5\n",
            "ingrese la medida de la altura del triangulo: : 45t\n",
            "ERROR SOLO DEBE DE INGRESAR DIGITOS\n"
          ]
        }
      ]
    },
    {
      "cell_type": "markdown",
      "source": [
        "8.- Programa en Python que sirva para calcular el área de un circulo"
      ],
      "metadata": {
        "id": "ivBFnn18CrwU"
      }
    },
    {
      "cell_type": "code",
      "source": [
        "try:\n",
        "    radio=float(input(\"ingrese la medida del radio del circulo: \"))\n",
        "\n",
        "    area=3.1416*(radio*radio)\n",
        "\n",
        "    print(f\"El area del circulo es de: {area:.2f}\")\n",
        "\n",
        "except:\n",
        "    print(\"ERROR SOLO DEBE DE INGRESAR DIGITOS\")"
      ],
      "metadata": {
        "colab": {
          "base_uri": "https://localhost:8080/"
        },
        "id": "5RdfC08MCsHm",
        "outputId": "87f2c33f-f842-46bb-9ad6-4f16b96bc6fb"
      },
      "execution_count": null,
      "outputs": [
        {
          "output_type": "stream",
          "name": "stdout",
          "text": [
            "ingrese la medida del radio del circulo: 56y\n",
            "ERROR SOLO DEBE DE INGRESAR DIGITOS\n"
          ]
        }
      ]
    }
  ]
}