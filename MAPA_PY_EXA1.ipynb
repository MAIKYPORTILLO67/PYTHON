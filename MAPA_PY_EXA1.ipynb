{
  "nbformat": 4,
  "nbformat_minor": 0,
  "metadata": {
    "colab": {
      "provenance": [],
      "authorship_tag": "ABX9TyM/o3w92s6D7EPdsK9CKFQJ",
      "include_colab_link": true
    },
    "kernelspec": {
      "name": "python3",
      "display_name": "Python 3"
    },
    "language_info": {
      "name": "python"
    }
  },
  "cells": [
    {
      "cell_type": "markdown",
      "metadata": {
        "id": "view-in-github",
        "colab_type": "text"
      },
      "source": [
        "<a href=\"https://colab.research.google.com/github/MAIKYPORTILLO67/PYTHON/blob/main/MAPA_PY_EXA1.ipynb\" target=\"_parent\"><img src=\"https://colab.research.google.com/assets/colab-badge.svg\" alt=\"Open In Colab\"/></a>"
      ]
    },
    {
      "cell_type": "markdown",
      "source": [
        "EXAMEN DE PYTHON"
      ],
      "metadata": {
        "id": "UtJRXOhWAV_p"
      }
    },
    {
      "cell_type": "markdown",
      "source": [
        "ALUMNO: MIGUEL ANGEL PORTILLO ATTWELL\n",
        "\\MATRICULA: 370097"
      ],
      "metadata": {
        "id": "90AaYdwDAkkg"
      }
    },
    {
      "cell_type": "code",
      "execution_count": null,
      "metadata": {
        "id": "CVp3ldZIANPG"
      },
      "outputs": [],
      "source": [
        "def obtener_datos_alumno():\n",
        "    nombre = input(\"Ingrese el nombre del alumno: \")\n",
        "    while not nombre.isalpha():\n",
        "        print(\"Por favor, ingrese un nombre válido.\")\n",
        "        nombre = input(\"Ingrese el nombre del alumno: \")\n",
        "\n",
        "    edad = input(\"Ingrese la edad del alumno: \")\n",
        "    while not edad.isdigit():\n",
        "        print(\"Por favor, ingrese una edad válida (número entero).\")\n",
        "        edad = input(\"Ingrese la edad del alumno: \")\n",
        "\n",
        "    curso = input(\"Ingrese el curso del alumno: \")\n",
        "    # Puedes agregar más validaciones según sea necesario.\n",
        "\n",
        "    # Crear y retornar el diccionario con los datos del alumno.\n",
        "    datos_alumno = {\n",
        "        \"Nombre\": nombre,\n",
        "        \"Edad\": int(edad),\n",
        "        \"Curso\": curso\n",
        "    }\n",
        "    return datos_alumno\n",
        "\n",
        "# Llamar a la función y desplegar el resultado.\n",
        "datos_del_alumno = obtener_datos_alumno()\n",
        "print(\"\\nDatos del alumno:\")\n",
        "for clave, valor in datos_del_alumno.items():\n",
        "    print(f\"{clave}: {valor}\")\n"
      ]
    }
  ]
}