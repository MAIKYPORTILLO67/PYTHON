{
  "nbformat": 4,
  "nbformat_minor": 0,
  "metadata": {
    "colab": {
      "provenance": [],
      "authorship_tag": "ABX9TyPRv9youYePXEruAEzfN09z",
      "include_colab_link": true
    },
    "kernelspec": {
      "name": "python3",
      "display_name": "Python 3"
    },
    "language_info": {
      "name": "python"
    }
  },
  "cells": [
    {
      "cell_type": "markdown",
      "metadata": {
        "id": "view-in-github",
        "colab_type": "text"
      },
      "source": [
        "<a href=\"https://colab.research.google.com/github/MAIKYPORTILLO67/PYTHON/blob/main/MAPA_PY_EXA1.ipynb\" target=\"_parent\"><img src=\"https://colab.research.google.com/assets/colab-badge.svg\" alt=\"Open In Colab\"/></a>"
      ]
    },
    {
      "cell_type": "markdown",
      "source": [
        "EXAMEN DE PYTHON"
      ],
      "metadata": {
        "id": "UtJRXOhWAV_p"
      }
    },
    {
      "cell_type": "markdown",
      "source": [
        "ALUMNO: MIGUEL ANGEL PORTILLO ATTWELL\n",
        "\\MATRICULA: 370097"
      ],
      "metadata": {
        "id": "90AaYdwDAkkg"
      }
    },
    {
      "cell_type": "markdown",
      "source": [
        "CODIGO 1"
      ],
      "metadata": {
        "id": "FeGsLKBrEtLm"
      }
    },
    {
      "cell_type": "code",
      "execution_count": null,
      "metadata": {
        "id": "CVp3ldZIANPG"
      },
      "outputs": [],
      "source": [
        "def obtener_datos_alumno():\n",
        "    nombre = input(\"Ingrese el nombre del alumno: \")\n",
        "    while not nombre.isalpha():\n",
        "        print(\"Por favor, ingrese un nombre válido.\")\n",
        "        nombre = input(\"Ingrese el nombre del alumno: \")\n",
        "\n",
        "    edad = input(\"Ingrese la edad del alumno: \")\n",
        "    while not edad.isdigit():\n",
        "        print(\"Por favor, ingrese una edad válida (número entero).\")\n",
        "        edad = input(\"Ingrese la edad del alumno: \")\n",
        "\n",
        "    curso = input(\"Ingrese el curso del alumno: \")\n",
        "    # Puedes agregar más validaciones según sea necesario.\n",
        "\n",
        "    # Crear y retornar el diccionario con los datos del alumno.\n",
        "    datos_alumno = {\n",
        "        \"Nombre\": nombre,\n",
        "        \"Edad\": int(edad),\n",
        "        \"Curso\": curso\n",
        "    }\n",
        "    return datos_alumno\n",
        "\n",
        "# Llamar a la función y desplegar el resultado.\n",
        "datos_del_alumno = obtener_datos_alumno()\n",
        "print(\"\\nDatos del alumno:\")\n",
        "for clave, valor in datos_del_alumno.items():\n",
        "    print(f\"{clave}: {valor}\")\n"
      ]
    },
    {
      "cell_type": "markdown",
      "source": [
        "CODIGO 2"
      ],
      "metadata": {
        "id": "6c2QI0iKExIH"
      }
    },
    {
      "cell_type": "code",
      "source": [
        "import random\n",
        "\n",
        "def generar_numeros_aleatorios():\n",
        "    # Inicializar una lista vacía para almacenar los números generados.\n",
        "    numeros_generados = []\n",
        "\n",
        "    # Generar números aleatorios únicos en el rango especificado.\n",
        "    while len(numeros_generados) < 30:\n",
        "        numero_aleatorio = random.randint(20, 100)\n",
        "        if numero_aleatorio not in numeros_generados:\n",
        "            numeros_generados.append(numero_aleatorio)\n",
        "\n",
        "    return numeros_generados\n",
        "\n",
        "# Llamar a la función y desplegar el resultado.\n",
        "numeros_aleatorios = generar_numeros_aleatorios()\n",
        "print(\"Números aleatorios generados:\", numeros_aleatorios)\n"
      ],
      "metadata": {
        "id": "kHYHAZvcEbfv"
      },
      "execution_count": null,
      "outputs": []
    },
    {
      "cell_type": "markdown",
      "source": [
        "CODIGO 3"
      ],
      "metadata": {
        "id": "c1wavTcWEzWk"
      }
    },
    {
      "cell_type": "code",
      "source": [
        "def factorial(numero):\n",
        "    if numero == 0 or numero == 1:\n",
        "        return 1\n",
        "    else:\n",
        "        return numero * factorial(numero - 1)\n",
        "\n",
        "# Llamar a la función y desplegar el resultado.\n",
        "numero_dado = 5  # Puedes cambiar el número según sea necesario.\n",
        "resultado_factorial = factorial(numero_dado)\n",
        "print(f\"El factorial de {numero_dado} es: {resultado_factorial}\")\n"
      ],
      "metadata": {
        "colab": {
          "base_uri": "https://localhost:8080/"
        },
        "id": "UIzqjS_WE1CM",
        "outputId": "2babadef-5100-4f50-ce2c-6bd50304d6a3"
      },
      "execution_count": 11,
      "outputs": [
        {
          "output_type": "stream",
          "name": "stdout",
          "text": [
            "El factorial de 5 es: 120\n"
          ]
        }
      ]
    }
  ]
}