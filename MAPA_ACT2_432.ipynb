{
  "nbformat": 4,
  "nbformat_minor": 0,
  "metadata": {
    "colab": {
      "provenance": [],
      "authorship_tag": "ABX9TyOY0XAS/NYbSft65l3A8Msf",
      "include_colab_link": true
    },
    "kernelspec": {
      "name": "python3",
      "display_name": "Python 3"
    },
    "language_info": {
      "name": "python"
    }
  },
  "cells": [
    {
      "cell_type": "markdown",
      "metadata": {
        "id": "view-in-github",
        "colab_type": "text"
      },
      "source": [
        "<a href=\"https://colab.research.google.com/github/MAIKYPORTILLO67/PYTHON/blob/main/MAPA_ACT2_432.ipynb\" target=\"_parent\"><img src=\"https://colab.research.google.com/assets/colab-badge.svg\" alt=\"Open In Colab\"/></a>"
      ]
    },
    {
      "cell_type": "markdown",
      "source": [
        "#ACTIVIDAD 2\n",
        "\n",
        "Alumno:Portillo Attwell Miguel Angel"
      ],
      "metadata": {
        "id": "SwZVXu7s5fR9"
      }
    },
    {
      "cell_type": "markdown",
      "source": [
        "EJERCICIOS ( 1,2,3 y 4 ) PARA SER RESUELTOS USANDO EXCLUSIVAMENTE CONDICIONES SIMPLES"
      ],
      "metadata": {
        "id": "izwTvI1f_qwr"
      }
    },
    {
      "cell_type": "markdown",
      "source": [
        "1.- Programa en Python que lea 2 números enteros, usar una condición y analizar los dos números y desplegar cual de los números es el mayor."
      ],
      "metadata": {
        "id": "ZvTdXlox6Lj-"
      }
    },
    {
      "cell_type": "code",
      "execution_count": null,
      "metadata": {
        "colab": {
          "base_uri": "https://localhost:8080/"
        },
        "id": "FXHdOA_n5d9I",
        "outputId": "65420b02-ea2e-4807-fda3-fa8020bed14a"
      },
      "outputs": [
        {
          "output_type": "stream",
          "name": "stdout",
          "text": [
            "ingresa un numero entero: 5\n",
            "ingresa otro numero entero: 10\n",
            "el numero 5 es menor que 10\n"
          ]
        }
      ],
      "source": [
        "num1=int(input(\"ingresa un numero entero: \"))\n",
        "num2=int(input(\"ingresa otro numero entero: \"))\n",
        "if num1>num2:\n",
        "    print(f\"El numero {num1} es mayor que {num2}.\")\n",
        "if num1<num2:\n",
        "    print(f\"el numero {num1} es menor que {num2}\")"
      ]
    },
    {
      "cell_type": "markdown",
      "source": [
        "2.- Programa en PythonAlgoritmo que lea 4 calificaciones de un alumno, calcular y desplegar el promedio acompañado de la leyenda \"APROBADO\" o \"REPROBADO\""
      ],
      "metadata": {
        "id": "Kv61vfjl8_Z1"
      }
    },
    {
      "cell_type": "code",
      "source": [
        "print(\"ingrese las 4 calificaciones:\")\n",
        "cali1=float(input(\"ingrese la primera calificacion: \"))\n",
        "cali2=float(input(\"ingrese la segunda calificacion: \"))\n",
        "cali3=float(input(\"ingrese la tercera calificacion: \"))\n",
        "cali4=float(input(\"ingrese la cuarta calificacion: \"))\n",
        "calitotal=cali1+cali2+cali3+cali4\n",
        "promedio=calitotal/4\n",
        "if promedio>=6:\n",
        "    print(f\"su promedio es de {promedio} usted esta [APROBADO/A] \")\n",
        "if promedio<6:\n",
        "    print(f\"su promedio es de {promedio} usted esta [REPROVADO/A] \")"
      ],
      "metadata": {
        "colab": {
          "base_uri": "https://localhost:8080/"
        },
        "id": "MTwOL_xm9Fcf",
        "outputId": "8c60f9c3-06ba-4dd2-808a-fdc2202c7450"
      },
      "execution_count": null,
      "outputs": [
        {
          "output_type": "stream",
          "name": "stdout",
          "text": [
            "ingrese las 4 calificaciones:\n",
            "ingrese la primera calificacion9\n",
            "ingrese la segunda calificacion4\n",
            "ingrese la tercera calificacion7\n",
            "ingrese la cuarta calificacion9\n",
            "su promedio es de 7.25 usted esta [APROBADO/A] \n"
          ]
        }
      ]
    },
    {
      "cell_type": "markdown",
      "source": [
        "3.- Programa en PythonAlgoritmo que a través de opciones (1.- HOMBRE 2.- MUJER ) preguntar al usuario cual es su sexo y desplegar la leyenda “HOMBRE ”, “MUJER”"
      ],
      "metadata": {
        "id": "8tq5PL6VAN2q"
      }
    },
    {
      "cell_type": "code",
      "source": [
        "print(\"ingrese solo el numero de las siguientes opciones\")\n",
        "sexo = input(\"¿Eres hombre o mujer? (1.- HOMBRE 2.- MUJER): \")\n",
        "if sexo==\"1\":\n",
        "    print(\"HOMBRE\")\n",
        "if sexo==\"2\":\n",
        "    print(\"MUJER\")"
      ],
      "metadata": {
        "id": "_h9D_PqNAPaK"
      },
      "execution_count": null,
      "outputs": []
    },
    {
      "cell_type": "markdown",
      "source": [
        "4.- Programa en Python que lea un número entero, y desplegar si el número es “PAR” o “IMPAR”"
      ],
      "metadata": {
        "id": "7qnEDZuhCTSP"
      }
    },
    {
      "cell_type": "code",
      "source": [
        "num = int(input(\"Ingrese un número entero: \"))\n",
        "if num % 2 == 0:\n",
        "    print(f\"El {num} es un número par\")\n",
        "if num % 2 == 1:\n",
        "    print(f\"El {num} es un número impar\")"
      ],
      "metadata": {
        "colab": {
          "base_uri": "https://localhost:8080/"
        },
        "id": "f8a_ygajCTzE",
        "outputId": "225efaf0-b2b7-4a86-94c2-6e64f9e1b8c1"
      },
      "execution_count": null,
      "outputs": [
        {
          "output_type": "stream",
          "name": "stdout",
          "text": [
            "Ingrese un número entero: 1555\n",
            "El 1555 es un número impar\n"
          ]
        }
      ]
    },
    {
      "cell_type": "markdown",
      "source": [
        "EJERCICIOS (5,6,7 y 8) PARA SER RESUELTOS USANDO CONDICIÓN COMPUESTA"
      ],
      "metadata": {
        "id": "OABbktUvAKIF"
      }
    },
    {
      "cell_type": "markdown",
      "source": [
        "5.- Programa en Python que lea 2 números enteros, usar una condición y analizar los dos números y desplegar cual de los números es el mayor."
      ],
      "metadata": {
        "id": "beHQT7ZMAAMi"
      }
    },
    {
      "cell_type": "code",
      "source": [
        "num1=int(input(\"ingresa un numero entero: \"))\n",
        "num2=int(input(\"ingresa otro numero entero: \"))\n",
        "if num1>num2:\n",
        "    print(f\"El numero {num1} es mayor que {num2}.\")\n",
        "else:\n",
        "    print(f\"el numero {num1} es menor que {num2}\")"
      ],
      "metadata": {
        "id": "TTxq1io2_f9d"
      },
      "execution_count": null,
      "outputs": []
    },
    {
      "cell_type": "markdown",
      "source": [
        "6.- Programa en Python que lea 4 calificaciones de un alumno, calcular y desplegar el promedio acompañado de la leyenda APROBADO o REPROBADO"
      ],
      "metadata": {
        "id": "luPEkiCY__xt"
      }
    },
    {
      "cell_type": "code",
      "source": [
        "print(\"ingrese las 4 calificaciones:\")\n",
        "cali1=float(input(\"ingrese la primera calificacion\"))\n",
        "cali2=float(input(\"ingrese la segunda calificacion: \"))\n",
        "cali3=float(input(\"ingrese la tercera calificacion: \"))\n",
        "cali4=float(input(\"ingrese la cuarta calificacion: \"))\n",
        "calitotal=cali1+cali2+cali3+cali4\n",
        "promedio=calitotal/4\n",
        "if promedio>=6:\n",
        "    print(f\"su promedio es de {promedio} usted esta [APROBADO/A] \")\n",
        "else:\n",
        "    print(f\"su promedio es de {promedio} usted esta [REPROVADO/A] \")"
      ],
      "metadata": {
        "id": "c0zmdkcc_fzW"
      },
      "execution_count": null,
      "outputs": []
    },
    {
      "cell_type": "markdown",
      "source": [
        "7.- Programa en Python que a través de opciones (1.- HOMBRE 2.- MUJER ) preguntar al usuario cual es su sexo y desplegar la leyenda “HOMBRE ”, “MUJER”\n",
        "\n"
      ],
      "metadata": {
        "id": "kipqTwmeAQWq"
      }
    },
    {
      "cell_type": "code",
      "source": [
        "print(\"ingrese solo el numero de las siguientes opciones\")\n",
        "sexo = input(\"¿Eres hombre o mujer? (1.- HOMBRE 2.- MUJER): \")\n",
        "if sexo==\"1\":\n",
        "  print(\"HOMBRE\")\n",
        "elif sexo==\"2\":\n",
        "  print(\"MUJER\")"
      ],
      "metadata": {
        "colab": {
          "base_uri": "https://localhost:8080/"
        },
        "id": "F8ntGgNRAQtT",
        "outputId": "7d922bde-e6c3-481a-c2a1-67c2f2661a6a"
      },
      "execution_count": null,
      "outputs": [
        {
          "output_type": "stream",
          "name": "stdout",
          "text": [
            "¿Eres hombre o mujer? (1.- HOMBRE 2.- MUJER): 2\n",
            "MUJER\n"
          ]
        }
      ]
    },
    {
      "cell_type": "markdown",
      "source": [
        "8.- Programa en Python que lea un número entero, y desplegar si el número es “PAR” o “IMPAR”"
      ],
      "metadata": {
        "id": "haqAtbMYCYWK"
      }
    },
    {
      "cell_type": "code",
      "source": [
        "num = int(input(\"Ingrese un número entero: \"))\n",
        "if num % 2 == 0:\n",
        "    print(f\"El {num} es un número par\")\n",
        "else:\n",
        "    print(f\"El {num} es un número impar\")"
      ],
      "metadata": {
        "id": "otd7TytwCZrZ"
      },
      "execution_count": null,
      "outputs": []
    }
  ]
}