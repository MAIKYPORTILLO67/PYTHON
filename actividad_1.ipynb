{
  "nbformat": 4,
  "nbformat_minor": 0,
  "metadata": {
    "colab": {
      "provenance": [],
      "toc_visible": true,
      "authorship_tag": "ABX9TyNT9DXtpeWqsZXi+q9Svk6R",
      "include_colab_link": true
    },
    "kernelspec": {
      "name": "python3",
      "display_name": "Python 3"
    },
    "language_info": {
      "name": "python"
    }
  },
  "cells": [
    {
      "cell_type": "markdown",
      "metadata": {
        "id": "view-in-github",
        "colab_type": "text"
      },
      "source": [
        "<a href=\"https://colab.research.google.com/github/MAIKYPORTILLO67/PYTHON/blob/main/actividad_1.ipynb\" target=\"_parent\"><img src=\"https://colab.research.google.com/assets/colab-badge.svg\" alt=\"Open In Colab\"/></a>"
      ]
    },
    {
      "cell_type": "markdown",
      "source": [
        "#ACTIVIDAD 1\n",
        "\n",
        "Alumno: Portillo Attwell Miguel Angel"
      ],
      "metadata": {
        "id": "K7j6bI8w-PjD"
      }
    },
    {
      "cell_type": "markdown",
      "source": [
        "###1.- Programa en Python Mostrar un mensaje que diga “HOLA MUNDO” en un solo renglón usando 2 print"
      ],
      "metadata": {
        "id": "aCK20XP1hFfR"
      }
    },
    {
      "cell_type": "code",
      "execution_count": 4,
      "metadata": {
        "colab": {
          "base_uri": "https://localhost:8080/"
        },
        "id": "PTr2dNdKg1Sg",
        "outputId": "92bcb602-58e1-4b5c-e9e8-2643ebd65537"
      },
      "outputs": [
        {
          "output_type": "stream",
          "name": "stdout",
          "text": [
            "Hola Mundo\n"
          ]
        }
      ],
      "source": [
        "print(\"Hola\", end=\" \")\n",
        "print(\"Mundo\")"
      ]
    },
    {
      "cell_type": "markdown",
      "source": [
        "###2.- Programa en Python que lea 2 números, realizar la suma y desplegar la suma de los 2 números"
      ],
      "metadata": {
        "id": "eJ2k7q9Riud3"
      }
    },
    {
      "cell_type": "code",
      "source": [
        "numero1=int(input(\"Escribe el primer numero: \"))\n",
        "numero2=int(input(\"Escribe el segundo numero: \"))\n",
        "suma=numero1+numero2\n",
        "print(f\"La suma de {numero1} mas {numero2} da un total de {suma}\")"
      ],
      "metadata": {
        "colab": {
          "base_uri": "https://localhost:8080/"
        },
        "id": "QCCTQlHQixLD",
        "outputId": "820b7dc7-f202-41d3-feec-fcf8948f4bd0"
      },
      "execution_count": 9,
      "outputs": [
        {
          "output_type": "stream",
          "name": "stdout",
          "text": [
            "Escribe el primer numero: 2\n",
            "Escribe el segundo numero: 3\n",
            "La suma de 2 mas 3 da un total de 5\n"
          ]
        }
      ]
    },
    {
      "cell_type": "markdown",
      "source": [
        "###3.- Programa en Python que lea 2 números y realice las 4 operaciones básicas"
      ],
      "metadata": {
        "id": "uUt3w8HbkgwD"
      }
    },
    {
      "cell_type": "code",
      "source": [
        "numero1=int(input(\"Escribe el primer numero: \"))\n",
        "numero2=int(input(\"Escribe el segundo numero: \"))\n",
        "suma=numero1+numero2\n",
        "resta=numero1-numero2\n",
        "multi=numero1*numero2\n",
        "division=numero1/numero2\n",
        "print(f\"{numero1} + {numero2} = {suma}\")\n",
        "print(f\"{numero1} - {numero2} = {resta}\")\n",
        "print(f\"{numero1} * {numero2} = {multi}\")\n",
        "print(f\"{numero1} / {numero2} = {division}\")"
      ],
      "metadata": {
        "colab": {
          "base_uri": "https://localhost:8080/"
        },
        "id": "jhMUVwvPkkpB",
        "outputId": "7d809231-43a2-44b2-9658-9c03eb0f2255"
      },
      "execution_count": 11,
      "outputs": [
        {
          "output_type": "stream",
          "name": "stdout",
          "text": [
            "Escribe el primer numero: 2\n",
            "Escribe el segundo numero: 4\n",
            "2 + 4 = 6\n",
            "2 - 4 = -2\n",
            "2 * 4 = 8\n",
            "2 / 4 = 0.5\n"
          ]
        }
      ]
    },
    {
      "cell_type": "markdown",
      "source": [
        "###4.- Programa en Python Que sirva para calcular el área de un triángulo"
      ],
      "metadata": {
        "id": "QOGJ3KvWm8pu"
      }
    },
    {
      "cell_type": "code",
      "source": [
        "print(\"ingrese los siguientes datos para calcular el area del triangulo\")\n",
        "base=int(input(\"Escribe el valor de la base del triangulo: \"))\n",
        "altura=int(input(\"Escribe el valor de la altura del triangulo: \"))\n",
        "area=(base*altura)/2\n",
        "print(f\"El area del triangulo tiene un valor de: {area}\")"
      ],
      "metadata": {
        "colab": {
          "base_uri": "https://localhost:8080/"
        },
        "id": "C_qdTl3Mm_m9",
        "outputId": "5751c2aa-389d-4cbd-d700-9ef65793d72a"
      },
      "execution_count": 12,
      "outputs": [
        {
          "output_type": "stream",
          "name": "stdout",
          "text": [
            "ingrese los siguientes datos para calcular el area del triangulo\n",
            "Escribe el valor de la base del triangulo: 10\n",
            "Escribe el valor de la altura del triangulo: 15\n",
            "El area del triangulo tiene un valor de: 75.0\n"
          ]
        }
      ]
    },
    {
      "cell_type": "markdown",
      "source": [
        "###5.- Programa en Python que lea una medida en centímetros y desplegar la misma medida pero convertida en pies y pulgadas"
      ],
      "metadata": {
        "id": "lHNXuu4EoZmx"
      }
    },
    {
      "cell_type": "code",
      "source": [
        "cm=float(input(\"ingrese la medida en cm que desea convetir: \"))\n",
        "pulg=cm/2.54\n",
        "pies=cm/30.48\n",
        "print(f\"los {cm}cm equivalen a {pulg:.4f} pulgadas y {pies:.4f} pies\")"
      ],
      "metadata": {
        "colab": {
          "base_uri": "https://localhost:8080/"
        },
        "id": "HaOB_pudoeWY",
        "outputId": "13307c08-26e0-4ef3-f105-7a8f260ad61b"
      },
      "execution_count": 19,
      "outputs": [
        {
          "output_type": "stream",
          "name": "stdout",
          "text": [
            "ingrese la medida en cm que desea convetir: 30\n",
            "los 30.0cm equivalen a 11.8110 pulgadas y 0.9843 pies\n"
          ]
        }
      ]
    },
    {
      "cell_type": "markdown",
      "source": [
        "###6.- Programa en Python que lea una temperatura en grados centígrados y desplegarla en Grados Fahrenheit y grados kelvin"
      ],
      "metadata": {
        "id": "sCrDCM9e1w4b"
      }
    },
    {
      "cell_type": "code",
      "source": [
        "c=float(input(\"ingrese los grados centigrados que desea convetir: \"))\n",
        "f=(c*9/5)+32\n",
        "k=c+273.15\n",
        "print(f\"los {c}°Centigrados equivalen a {f:.1f}°Fahrenheit y {k:.2f}° Kelvin\")"
      ],
      "metadata": {
        "colab": {
          "base_uri": "https://localhost:8080/"
        },
        "id": "xLFXJMIe11Xd",
        "outputId": "208c5885-d856-4be1-e88f-63d3a7a68a02"
      },
      "execution_count": 21,
      "outputs": [
        {
          "output_type": "stream",
          "name": "stdout",
          "text": [
            "ingrese los grados centigrados que desea convetir: 18\n",
            "los 18.0°Centigrados equivalen a 64.4°Fahrenheit y 291.15° Kelvin\n"
          ]
        }
      ]
    },
    {
      "cell_type": "markdown",
      "source": [
        "###7.- Programa en Python que lea 4 calificaciones de un alumno, desplegar el promedio del alumno"
      ],
      "metadata": {
        "id": "Fjha5qOQ117m"
      }
    },
    {
      "cell_type": "code",
      "source": [
        "cali1=float(input(\"Ingrese la primera calificacion: \"))\n",
        "cali2=float(input(\"Ingrese la primera calificacion: \"))\n",
        "cali3=float(input(\"Ingrese la primera calificacion: \"))\n",
        "cali4=float(input(\"Ingrese la primera calificacion: \"))\n",
        "promedio=(cali1+cali2+cali3+cali4)/4\n",
        "print(f\"El promedio de las calificaciones del alumno es de: {promedio}\")"
      ],
      "metadata": {
        "colab": {
          "base_uri": "https://localhost:8080/"
        },
        "id": "TJ_0vbf716ib",
        "outputId": "19233687-d491-4536-8301-bac01ed3915f"
      },
      "execution_count": 13,
      "outputs": [
        {
          "output_type": "stream",
          "name": "stdout",
          "text": [
            "Ingrese la primera calificacion: 8.5\n",
            "Ingrese la primera calificacion: 6.7\n",
            "Ingrese la primera calificacion: 9.0\n",
            "Ingrese la primera calificacion: 8.9\n",
            "El promedio de las calificaciones del alumno es de: 8.275\n"
          ]
        }
      ]
    }
  ]
}