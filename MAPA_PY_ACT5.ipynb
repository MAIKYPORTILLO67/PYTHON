{
  "nbformat": 4,
  "nbformat_minor": 0,
  "metadata": {
    "colab": {
      "provenance": [],
      "authorship_tag": "ABX9TyN30gkVw2l8DsXBrj5jt5KQ",
      "include_colab_link": true
    },
    "kernelspec": {
      "name": "python3",
      "display_name": "Python 3"
    },
    "language_info": {
      "name": "python"
    }
  },
  "cells": [
    {
      "cell_type": "markdown",
      "metadata": {
        "id": "view-in-github",
        "colab_type": "text"
      },
      "source": [
        "<a href=\"https://colab.research.google.com/github/MAIKYPORTILLO67/PYTHON/blob/main/MAPA_PY_ACT5.ipynb\" target=\"_parent\"><img src=\"https://colab.research.google.com/assets/colab-badge.svg\" alt=\"Open In Colab\"/></a>"
      ]
    },
    {
      "cell_type": "markdown",
      "source": [
        "#ACTIVIDAD 5\n",
        "\n",
        "Alumno: Miguel Angel Portillo Attwell\n",
        "\n",
        "INSTRUCCIONES\n",
        "\n",
        "1.- Realiza los ejercicios en COLABORATORY, (USAR for :, random, try )\n",
        "\n",
        "2.- Una vez los ejercicios terminados genera un archivo en archivo PDF\n",
        "\n",
        "3.- Genera el archivo PDF nombrando el archivo PNY_PY_ACT5.PDF , incluir portada con los datos del alumno y actividad.\n",
        "\n",
        "4.- Realiza reporte de practica y anexos, genera PDF nombrando el archivo PNY_PY_REPPRAC_5.PDF  PNY_PY_ANEXOS_5.PDF\n",
        "\n",
        "5.- Sube los archivo a tu repositorio de GIT HUB ( cuaderno de Google Colab, y PDF's )\n",
        "\n",
        "5.- Sube los archivo a BLACKBOARD ( cuaderno de Google Colab, y PDF's )\n",
        "\n",
        "6.- Escribir el enlace al archivo de colab en tu repositorio"
      ],
      "metadata": {
        "id": "LTlf6ocb7-N6"
      }
    },
    {
      "cell_type": "markdown",
      "source": [
        "##PARTE 1:"
      ],
      "metadata": {
        "id": "81WHtLjZaYRG"
      }
    },
    {
      "cell_type": "markdown",
      "source": [
        "1.- Programa en Python que genere 40 números aleatorios entre el 0 y 200, desplegar los números y la leyenda de cada número si es par o impar , la cantidad de los números pares e impares así como la suma de los números pares o impares."
      ],
      "metadata": {
        "id": "r0RDt9hu79l_"
      }
    },
    {
      "cell_type": "code",
      "source": [
        "import random\n",
        "cont1=0\n",
        "cont2=0\n",
        "for i in range(40):\n",
        "    num = random.randrange(1,200)\n",
        "    if num % 2 == 0:\n",
        "        print(f\"{i+1}.- {num}--par\")\n",
        "        cont1=cont1+1\n",
        "    else:\n",
        "        print(f\"{i+1}.- {num}--impar\")\n",
        "        cont2=cont2+1\n",
        "\n",
        "print(f\"numeros par: {cont1}\")\n",
        "print(f\"numeros impar: {cont2}\")"
      ],
      "metadata": {
        "id": "Qt-_Yl2Q79Uc",
        "colab": {
          "base_uri": "https://localhost:8080/"
        },
        "outputId": "c8e292d1-efc6-451a-abb3-826fc657fa2f"
      },
      "execution_count": null,
      "outputs": [
        {
          "output_type": "stream",
          "name": "stdout",
          "text": [
            "1.- 131--impar\n",
            "2.- 117--impar\n",
            "3.- 74--par\n",
            "4.- 68--par\n",
            "5.- 82--par\n",
            "6.- 37--impar\n",
            "7.- 176--par\n",
            "8.- 91--impar\n",
            "9.- 172--par\n",
            "10.- 67--impar\n",
            "11.- 43--impar\n",
            "12.- 110--par\n",
            "13.- 33--impar\n",
            "14.- 141--impar\n",
            "15.- 155--impar\n",
            "16.- 18--par\n",
            "17.- 52--par\n",
            "18.- 105--impar\n",
            "19.- 34--par\n",
            "20.- 63--impar\n",
            "21.- 95--impar\n",
            "22.- 118--par\n",
            "23.- 167--impar\n",
            "24.- 133--impar\n",
            "25.- 146--par\n",
            "26.- 14--par\n",
            "27.- 38--par\n",
            "28.- 116--par\n",
            "29.- 198--par\n",
            "30.- 141--impar\n",
            "31.- 34--par\n",
            "32.- 43--impar\n",
            "33.- 19--impar\n",
            "34.- 100--par\n",
            "35.- 60--par\n",
            "36.- 105--impar\n",
            "37.- 194--par\n",
            "38.- 92--par\n",
            "39.- 16--par\n",
            "40.- 95--impar\n",
            "numeros par: 21\n",
            "numeros impar: 19\n"
          ]
        }
      ]
    },
    {
      "cell_type": "markdown",
      "source": [
        "2.- Programa en Python que despliegue la tabla de multiplicar de un número dado (número entre el 1 y 20).\n",
        "\n",
        "\n",
        "\n",
        "Tabla del 5\n",
        "\n",
        "5 * 1 = 5\n",
        "\n",
        "5* 2 = 10\n",
        "\n",
        ".\n",
        "\n",
        ".\n",
        "\n",
        ".\n",
        "\n",
        "5*10=50"
      ],
      "metadata": {
        "id": "0VVqVpjp7-tM"
      }
    },
    {
      "cell_type": "code",
      "source": [
        "try:\n",
        "    num = int(input(\"Que tabla le gustaria desplegar: \"))\n",
        "    if num < 1 or num > 20:\n",
        "        raise ValueError (\"seleccionar una tabla de entre 1 y 20.\")\n",
        "\n",
        "except ValueError as e:\n",
        "    print(\"Error:\", e)\n",
        "\n",
        "else:\n",
        "    for i in range(0, 10, 1):\n",
        "        total= num * (i+1)\n",
        "        print(f\"{num} x {i+1} = {total}\")"
      ],
      "metadata": {
        "id": "0_wDbaNU79MO",
        "colab": {
          "base_uri": "https://localhost:8080/"
        },
        "outputId": "ea3a2969-06d0-4453-cb8c-43bb10d373af"
      },
      "execution_count": null,
      "outputs": [
        {
          "output_type": "stream",
          "name": "stdout",
          "text": [
            "Que tabla le gustaria desplegar: 4\n",
            "4 x 1 = 4\n",
            "4 x 2 = 8\n",
            "4 x 3 = 12\n",
            "4 x 4 = 16\n",
            "4 x 5 = 20\n",
            "4 x 6 = 24\n",
            "4 x 7 = 28\n",
            "4 x 8 = 32\n",
            "4 x 9 = 36\n",
            "4 x 10 = 40\n"
          ]
        }
      ]
    },
    {
      "cell_type": "markdown",
      "source": [
        "3.- Programa en Python que lea una calificación, las calificación deberá estar en el rango de 0 a 100, si hay un error de captura, mostrar mensaje de error. con la calificación correcta mostrar msg de aprobado reprobado."
      ],
      "metadata": {
        "id": "jt5HSShv7_qm"
      }
    },
    {
      "cell_type": "code",
      "source": [
        "try:\n",
        "    cali1=float(input(\"ingresar la calificacion del alumno: \"))\n",
        "    if cali1 < 0 or cali1 > 100:\n",
        "        raise ValueError (\"ingresar una calificacion entre 0 y 100.\")\n",
        "\n",
        "except ValueError as e:\n",
        "        print(\"Error: \", e)\n",
        "\n",
        "except:\n",
        "    print(\"Por favor, solo ingrese digitos.\")\n",
        "\n",
        "else:\n",
        "    if cali1 >= 60:\n",
        "        print(f\"su calificacion: {cali1:.1f}\")\n",
        "        print(\"esta aprobado/a\")\n",
        "\n",
        "    else:\n",
        "        print(f\"su calificacion: {cali1:.1f}\")\n",
        "        print(\"esta reprobado/a\")"
      ],
      "metadata": {
        "id": "ZMRoJh_l78Ou",
        "colab": {
          "base_uri": "https://localhost:8080/"
        },
        "outputId": "30352a3d-07a7-411f-b8ec-7d2f0e9f7dc7"
      },
      "execution_count": null,
      "outputs": [
        {
          "output_type": "stream",
          "name": "stdout",
          "text": [
            "ingresar la calificacion del alumno: 101\n",
            "Error:  ingresar una calificacion entre 0 y 100.\n"
          ]
        }
      ]
    },
    {
      "cell_type": "markdown",
      "source": [
        "4.- Programa en Python que lea n cantidad de números enteros dentro de un rango dado (> 0 ) , el programa deberá terminar cuando el usuario introduzca el número cero.\n",
        "\n",
        "desplegar la suma de números y la media.\n",
        "\n"
      ],
      "metadata": {
        "id": "FXg6H69Z8ACa"
      }
    },
    {
      "cell_type": "code",
      "execution_count": null,
      "metadata": {
        "id": "sEZoJTpj7zaM",
        "colab": {
          "base_uri": "https://localhost:8080/"
        },
        "outputId": "7ead9f67-638d-458c-f205-c0a74f7d7edd"
      },
      "outputs": [
        {
          "output_type": "stream",
          "name": "stdout",
          "text": [
            "Numero de veces a ingresar un numero entero: 6\n",
            "ingresar un numero entero: 23\n",
            "ingresar un numero entero: 43\n",
            "ingresar un numero entero: 65\n",
            "ingresar un numero entero: 77\n",
            "ingresar un numero entero: 1\n",
            "ingresar un numero entero: 9\n",
            "la suma de los numero: 218\n",
            "la media de los numero: 36.3333\n"
          ]
        }
      ],
      "source": [
        "import random\n",
        "numeros = []\n",
        "n = random.randrange(0,20)\n",
        "try:\n",
        "    print(f\"Numero de veces a ingresar un numero entero: {n}\")\n",
        "    for i in range(0, n, 1):\n",
        "        numero = int(input(\"ingresar un numero entero: \"))\n",
        "        if numeros == 0:\n",
        "            raise ValueError(\"ya que se ingreso el digito 0\")\n",
        "\n",
        "        numeros.append(numero)\n",
        "        suma = sum(numeros)\n",
        "        media = suma / len(numeros)\n",
        "\n",
        "except ValueError as e:\n",
        "    print(\"Tarea Finalizada: \", e)\n",
        "\n",
        "except:\n",
        "    print(\"Por favor, solo ingrese digitos.\")\n",
        "else:\n",
        "    print(f\"la suma de los numero: {suma}\")\n",
        "    print(f\"la media de los numero: {media:.4f}\")"
      ]
    },
    {
      "cell_type": "markdown",
      "source": [
        "5.- Programa en Python que sirva para leer el promedio de una materia. donde el usuario tendrá un máximo de 3 oportunidades de cursar la materia, si el promedio es aprobado, felicitarlo y continuar el siguiente semestre, si promedio es reprobado deberá salir mensaje de repetir materia o es baja académica si ha reprobado 3 veces."
      ],
      "metadata": {
        "id": "qKJkmHUXJUM4"
      }
    },
    {
      "cell_type": "code",
      "source": [
        "oportunidades = 3\n",
        "aprobado = False\n",
        "\n",
        "while oportunidades > 0 and not aprobado:\n",
        "    promedio = float(input(\"Ingrese el promedio de la materia: \"))\n",
        "    if promedio >= 60:\n",
        "        print(f\"Felicidades, aprobaste la materia con un promedio de {promedio}\")\n",
        "        aprobado = True\n",
        "    else:\n",
        "        oportunidades -= 1\n",
        "        if oportunidades > 0:\n",
        "            print(f\"Lo siento, tu promedio de {promedio} no es suficiente para aprobar la materia\")\n",
        "            print(f\"Te quedan {oportunidades} oportunidades para aprobar la materia\")\n",
        "        else:\n",
        "            print(\"Lo siento, has reprobado la materia 3 veces. Es una baja académica\")\n"
      ],
      "metadata": {
        "id": "55rGUrAJJdsc",
        "colab": {
          "base_uri": "https://localhost:8080/"
        },
        "outputId": "6fa9d4cb-6e7c-46cb-9186-faaae2ef0743"
      },
      "execution_count": null,
      "outputs": [
        {
          "output_type": "stream",
          "name": "stdout",
          "text": [
            "Ingrese el promedio de la materia: 56\n",
            "Lo siento, tu promedio de 56.0 no es suficiente para aprobar la materia\n",
            "Te quedan 2 oportunidades para aprobar la materia\n",
            "Ingrese el promedio de la materia: 45\n",
            "Lo siento, tu promedio de 45.0 no es suficiente para aprobar la materia\n",
            "Te quedan 1 oportunidades para aprobar la materia\n",
            "Ingrese el promedio de la materia: 56\n",
            "Lo siento, has reprobado la materia 3 veces. Es una baja académica\n"
          ]
        }
      ]
    },
    {
      "cell_type": "markdown",
      "source": [
        "##PARTE 2:"
      ],
      "metadata": {
        "id": "spJ2bdp1aUc9"
      }
    },
    {
      "cell_type": "markdown",
      "source": [
        "1.- función que lea n cantidad de números hasta que el usuario lo desee, desplegar la suma de los números, media y valor de los números mayores y menores."
      ],
      "metadata": {
        "id": "Dm7E_vyuaetG"
      }
    },
    {
      "cell_type": "code",
      "source": [
        "def leer_numeros():\n",
        "    numeros = []\n",
        "    continuar = True\n",
        "    while continuar:\n",
        "        num = float(input(\"Introduce un número: \"))\n",
        "        numeros.append(num)\n",
        "        respuesta = input(\"¿Desea introducir otro número? (S/N)\").lower()\n",
        "        if respuesta != \"s\":\n",
        "            continuar = False\n",
        "    suma_numeros = sum(numeros)\n",
        "    media_numeros = suma_numeros / len(numeros)\n",
        "    mayores = [num for num in numeros if num > media_numeros]\n",
        "    menores = [num for num in numeros if num < media_numeros]\n",
        "    return suma_numeros, media_numeros, mayores, menores\n",
        "\n",
        "suma, media, mayo, meno = leer_numeros()\n",
        "print(f\"Suma de los números: {suma}\")\n",
        "print(f\"Media de los números: {media}\")\n",
        "print(f\"Números mayores que la media: {mayo}\")\n",
        "print(f\"Números menores que la media: {meno}\")"
      ],
      "metadata": {
        "id": "jnf8heRtahQB",
        "colab": {
          "base_uri": "https://localhost:8080/"
        },
        "outputId": "34206841-5002-435d-c244-8f357c641821"
      },
      "execution_count": null,
      "outputs": [
        {
          "output_type": "stream",
          "name": "stdout",
          "text": [
            "Introduce un número: 5\n",
            "¿Desea introducir otro número? (S/N)s\n",
            "Introduce un número: 56\n",
            "¿Desea introducir otro número? (S/N)s\n",
            "Introduce un número: 1\n",
            "¿Desea introducir otro número? (S/N)s\n",
            "Introduce un número: 67\n",
            "¿Desea introducir otro número? (S/N)s\n",
            "Introduce un número: 89\n",
            "¿Desea introducir otro número? (S/N)n\n",
            "Suma de los números: 218.0\n",
            "Media de los números: 43.6\n",
            "Números mayores que la media: [56.0, 67.0, 89.0]\n",
            "Números menores que la media: [5.0, 1.0]\n"
          ]
        }
      ]
    },
    {
      "cell_type": "markdown",
      "source": [
        "2.- función que genere 15 números impares entre 10 y 60 o máximo de 25 números. desplegar la media de los pares y media de impares."
      ],
      "metadata": {
        "id": "wjcky5J6ahx3"
      }
    },
    {
      "cell_type": "code",
      "source": [
        "import random\n",
        "def generar_numeros():\n",
        "    numeros = []\n",
        "    impares = []\n",
        "    pares = []\n",
        "\n",
        "    while len(numeros) < 25 and len(impares) < 15:\n",
        "        num = random.randint(10, 60)\n",
        "        if num % 2 == 0:\n",
        "            pares.append(num)\n",
        "        else:\n",
        "            impares.append(num)\n",
        "            numeros.append(num)\n",
        "\n",
        "    media_pares = sum(pares) / len(pares)\n",
        "    media_impares = sum(impares) / len(impares)\n",
        "    return numeros, media_pares, media_impares\n",
        "\n",
        "nume_final, me_par, me_impa = generar_numeros()\n",
        "print(f\"Los números generados son: {nume_final}\")\n",
        "print(f\"La media de los números pares es: {me_par:.4f}\")\n",
        "print(f\"La media de los números impares es: {me_impa:.4f}\")"
      ],
      "metadata": {
        "id": "Y1AfepsxahIm",
        "colab": {
          "base_uri": "https://localhost:8080/"
        },
        "outputId": "628529ad-f32b-4aa4-fab9-8f3f56a1fd14"
      },
      "execution_count": null,
      "outputs": [
        {
          "output_type": "stream",
          "name": "stdout",
          "text": [
            "Los números generados son: [23, 41, 51, 11, 23, 53, 49, 41, 27, 19, 53, 27, 55, 17, 41]\n",
            "La media de los números pares es: 33.3913\n",
            "La media de los números impares es: 35.4000\n"
          ]
        }
      ]
    },
    {
      "cell_type": "markdown",
      "source": [
        "3.- función que sirva para leer y validar un número dentro de un rango dado por el usuario. repetir esta acción hasta que el usuario lo desee, desplegar cantidad de números y promedio de los números.."
      ],
      "metadata": {
        "id": "fXm3YQ-BahrO"
      }
    },
    {
      "cell_type": "code",
      "source": [
        "def leer_rango():\n",
        "    continuar = True\n",
        "    while continuar:\n",
        "        inicio = int(input(\"Introduce el número inicial del rango: \"))\n",
        "        fin = int(input(\"Introduce el número final del rango: \"))\n",
        "        numeros = list(range(inicio, fin+1))\n",
        "        cantidad_numeros = len(numeros)\n",
        "        suma_numeros = sum(numeros)\n",
        "        promedio_numeros = suma_numeros / cantidad_numeros\n",
        "        return cantidad_numeros, promedio_numeros\n",
        "\n",
        "continuar = True\n",
        "while continuar:\n",
        "    cantidad, promedio = leer_rango()\n",
        "    print(f\"Cantidad de números: {cantidad}\")\n",
        "    print(f\"Promedio de los números: {promedio}\")\n",
        "    respuesta = input(\"¿Desea continuar? (S/N)\").lower()\n",
        "    if respuesta != \"s\":\n",
        "        continuar = False"
      ],
      "metadata": {
        "id": "eYmAt4gfahAe",
        "colab": {
          "base_uri": "https://localhost:8080/"
        },
        "outputId": "5b779daf-3c4e-40c7-b5c1-5db6f0b9266b"
      },
      "execution_count": null,
      "outputs": [
        {
          "name": "stdout",
          "output_type": "stream",
          "text": [
            "Introduce el número inicial del rango: 1\n",
            "Introduce el número final del rango: 13\n",
            "Cantidad de números: 13\n",
            "Promedio de los números: 7.0\n",
            "¿Desea continuar? (S/N)n\n"
          ]
        }
      ]
    },
    {
      "cell_type": "markdown",
      "source": [
        "4.- función que reciba como parámetro los valores para el área de un triángulo y retorne su resultado"
      ],
      "metadata": {
        "id": "qbnpmwkBahjX"
      }
    },
    {
      "cell_type": "code",
      "source": [
        "def calculo_area():\n",
        "    area_triangulo = (base * altura) /2\n",
        "    return area_triangulo\n",
        "\n",
        "try:\n",
        "    base=float(input(\"ingrese la base del triangulo: \"))\n",
        "    altura=float(input(\"ingrese la altura del triangulo: \"))\n",
        "\n",
        "except:\n",
        "    print(\"Por favor, solo ingrese digitos.\")\n",
        "\n",
        "else:\n",
        "    final=calculo_area(base, altura)\n",
        "    print(\"el area del triangulo es: \", final)\n"
      ],
      "metadata": {
        "colab": {
          "base_uri": "https://localhost:8080/"
        },
        "id": "z5XHG6TJae1g",
        "outputId": "e8ded801-36be-4366-aabe-afccc98c217f"
      },
      "execution_count": null,
      "outputs": [
        {
          "output_type": "stream",
          "name": "stdout",
          "text": [
            "ingrese la base del triangulo: 12\n",
            "ingrese la altura del triangulo: 22\n",
            "el area del triangulo es:  132.0\n"
          ]
        }
      ]
    },
    {
      "cell_type": "markdown",
      "source": [
        "5.- función que sirva para validar un número dentro de un rango dado."
      ],
      "metadata": {
        "id": "-jYgyVRzbGSW"
      }
    },
    {
      "cell_type": "code",
      "source": [
        "import random\n",
        "def num_rang():\n",
        "    continuar = True\n",
        "    while continuar:\n",
        "        try:\n",
        "            inicio = int(input(\"Introduce el número inicial del rango: \"))\n",
        "            fin = int(input(\"Introduce el número final del rango: \"))\n",
        "            numero = random.randrange(inicio, fin+1)\n",
        "        except:\n",
        "            print(\"Por favor, solo ingrese digitos.\")\n",
        "        else:\n",
        "            if numero >= inicio and numero <= fin:\n",
        "                print(f\"El numero {numero} esta dentro del rango {inicio} a {fin}\")\n",
        "            else:\n",
        "                print(f\"El numero {numero} esta fuera del rango {inicio} a {fin}\")\n",
        "\n",
        "        respuesta = input(\"¿Desea continuar? (S/N)\").lower()\n",
        "        if respuesta != \"s\":\n",
        "            continuar = False\n",
        "\n",
        "num_rang()"
      ],
      "metadata": {
        "id": "0x3V3eJpbGne",
        "colab": {
          "base_uri": "https://localhost:8080/"
        },
        "outputId": "c2c34a74-9b4b-4863-9cde-923b2c31103a"
      },
      "execution_count": 13,
      "outputs": [
        {
          "name": "stdout",
          "output_type": "stream",
          "text": [
            "Introduce el número inicial del rango: 1\n",
            "Introduce el número final del rango: 9\n",
            "El numero 2 esta dentro del rango 1 a 9\n",
            "¿Desea continuar? (S/N)s\n",
            "Introduce el número inicial del rango: 1\n",
            "Introduce el número final del rango: 3\n",
            "El numero 3 esta dentro del rango 1 a 3\n",
            "¿Desea continuar? (S/N)s\n",
            "Introduce el número inicial del rango: 1\n",
            "Introduce el número final del rango: 1\n",
            "El numero 1 esta dentro del rango 1 a 1\n",
            "¿Desea continuar? (S/N)n\n"
          ]
        }
      ]
    }
  ]
}