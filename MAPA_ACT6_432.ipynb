{
  "nbformat": 4,
  "nbformat_minor": 0,
  "metadata": {
    "colab": {
      "provenance": [],
      "authorship_tag": "ABX9TyPpvQT14SM36OtCiJuwtnve",
      "include_colab_link": true
    },
    "kernelspec": {
      "name": "python3",
      "display_name": "Python 3"
    },
    "language_info": {
      "name": "python"
    }
  },
  "cells": [
    {
      "cell_type": "markdown",
      "metadata": {
        "id": "view-in-github",
        "colab_type": "text"
      },
      "source": [
        "<a href=\"https://colab.research.google.com/github/MAIKYPORTILLO67/PYTHON/blob/main/MAPA_ACT6_432.ipynb\" target=\"_parent\"><img src=\"https://colab.research.google.com/assets/colab-badge.svg\" alt=\"Open In Colab\"/></a>"
      ]
    },
    {
      "cell_type": "markdown",
      "source": [
        "###ACTIVIDAD 6\n",
        "\n",
        "Alumno: Miguel Angel Portillo Attwell\n",
        "\n",
        "INSTRUCCIONES:\n",
        "\n",
        "1.- Realiza lo que se piden, utilizando las funciones para validar números , \n",
        "\n",
        "2.- Realiza los programas en COLLABORATORY toma captura de las imágenes y realiza el documento con el código y salida de cada programa. (no olvidar poner liga a repositorio de GitHub)\n",
        "\n",
        "3.- Coloca tu cuaderno de google colab con los ejercicios en tu repositorio de GitHub\n",
        "\n",
        "4.- Realiza reporte de práctica, donde deberás poner teoría\n",
        "\n",
        "5.- Sube a blackboard todos los archivos y escribir enlace a tu repositorio de GitHub\n",
        "\n",
        "**NOTA**:\n",
        "**En Google Colab realiza un programa que utilice un menú que mande llamar uno de los 6 programas a que se listan, el programa deberá tener la función valida_num que es una función que sirve para leer un numero y validarlo dentro de un rango dado, la función deberá ser llamada desde las demás funciones donde se necesite leer y validar una variable de tipo numerica . **\n",
        "\n"
      ],
      "metadata": {
        "id": "geU7uklS4M_X"
      }
    },
    {
      "cell_type": "markdown",
      "source": [
        "1.- FUNCIÓN QUE LEA n CANTIDAD DE NÚMEROS HASTA QUE EL USUARIO LO DESEE, DESPLEGAR LA SUMA DE LOS NÚMEROS, MEDIA Y VALOR DE LOS NÚMEROS MAYORES Y MENORES."
      ],
      "metadata": {
        "id": "MHXlc8A14M3J"
      }
    },
    {
      "cell_type": "code",
      "source": [
        "def leer_numeros():\n",
        "    numeros = []\n",
        "    continuar = True\n",
        "    while continuar:\n",
        "        num = float(input(\"Introduce un número: \"))\n",
        "        numeros.append(num)\n",
        "        respuesta = input(\"¿Desea introducir otro número? (S/N)\").lower()\n",
        "        if respuesta != \"s\":\n",
        "            continuar = False\n",
        "    suma_numeros = sum(numeros)\n",
        "    media_numeros = suma_numeros / len(numeros)\n",
        "    mayores = [num for num in numeros if num > media_numeros]\n",
        "    menores = [num for num in numeros if num < media_numeros]\n",
        "    return suma_numeros, media_numeros, mayores, menores\n",
        "\n",
        "suma, media, mayo, meno = leer_numeros()\n",
        "print(f\"Suma de los números: {suma}\")\n",
        "print(f\"Media de los números: {media}\")\n",
        "print(f\"Números mayores que la media: {mayo}\")\n",
        "print(f\"Números menores que la media: {meno}\")"
      ],
      "metadata": {
        "id": "yvAiG_kE4K0Z",
        "colab": {
          "base_uri": "https://localhost:8080/"
        },
        "outputId": "6e7683cf-caf3-40b6-8465-e9c02cfd59a7"
      },
      "execution_count": 50,
      "outputs": [
        {
          "output_type": "stream",
          "name": "stdout",
          "text": [
            "Introduce un número: 3\n",
            "¿Desea introducir otro número? (S/N)s\n",
            "Introduce un número: 7\n",
            "¿Desea introducir otro número? (S/N)s\n",
            "Introduce un número: 3\n",
            "¿Desea introducir otro número? (S/N)n\n",
            "Suma de los números: 13.0\n",
            "Media de los números: 4.333333333333333\n",
            "Números mayores que la media: [7.0]\n",
            "Números menores que la media: [3.0, 3.0]\n"
          ]
        }
      ]
    },
    {
      "cell_type": "markdown",
      "source": [
        "2.- FUNCIÓN QUE GENERE 15 NÚMEROS IMPARES ENTRE 10 Y 60 o MÁXIMO DE 25 NÚMEROS. DESPLEGAR LA MEDIA DE LOS PARES Y MEDIA DE IMPARES."
      ],
      "metadata": {
        "id": "OPm4XcMm4LU9"
      }
    },
    {
      "cell_type": "code",
      "execution_count": null,
      "metadata": {
        "colab": {
          "base_uri": "https://localhost:8080/"
        },
        "id": "FQGB4HE14G3_",
        "outputId": "4b4ecda5-d505-4fc5-e8ab-eb8f86f72378"
      },
      "outputs": [
        {
          "output_type": "stream",
          "name": "stdout",
          "text": [
            "Los números generados son: [27, 37, 53, 29, 55, 21, 21, 37, 21, 13, 51, 33, 55, 51, 37]\n",
            "La media de los números pares es: 34.0000\n",
            "La media de los números impares es: 36.0667\n"
          ]
        }
      ],
      "source": [
        "import random\n",
        "def generar_numeros():\n",
        "    numeros = []\n",
        "    impares = []\n",
        "    pares = []\n",
        "    \n",
        "    while len(numeros) < 25 and len(impares) < 15:\n",
        "        num = random.randint(10, 60)\n",
        "        if num % 2 == 0:\n",
        "            pares.append(num)\n",
        "        else:\n",
        "            impares.append(num)\n",
        "            numeros.append(num)\n",
        "\n",
        "    media_pares = sum(pares) / len(pares)\n",
        "    media_impares = sum(impares) / len(impares)\n",
        "    return numeros, media_pares, media_impares\n",
        "\n",
        "nume_final, me_par, me_impa = generar_numeros()\n",
        "print(f\"Los números generados son: {nume_final}\")\n",
        "print(f\"La media de los números pares es: {me_par:.4f}\")\n",
        "print(f\"La media de los números impares es: {me_impa:.4f}\")"
      ]
    },
    {
      "cell_type": "markdown",
      "source": [
        "3.- FUNCIÓN QUE SIRVA PARA LEER UN RANGO DADO POR EL USUARIO. REPETIR ESTA ACCIÓN HASTA QUE EL USUARIO LO DESEE, DESPLEGAR CANTIDAD DE NUMEROS Y PROMEDIO DE LOS NUMEROS.."
      ],
      "metadata": {
        "id": "ss_gZKmP5pqw"
      }
    },
    {
      "cell_type": "code",
      "source": [
        "def leer_rango():\n",
        "    continuar = True\n",
        "    while continuar:\n",
        "        inicio = int(input(\"Introduce el número inicial del rango: \"))\n",
        "        fin = int(input(\"Introduce el número final del rango: \"))\n",
        "        numeros = list(range(inicio, fin+1))\n",
        "        cantidad_numeros = len(numeros)\n",
        "        suma_numeros = sum(numeros)\n",
        "        promedio_numeros = suma_numeros / cantidad_numeros\n",
        "        return cantidad_numeros, promedio_numeros\n",
        "\n",
        "continuar = True\n",
        "while continuar:       \n",
        "    cantidad, promedio = leer_rango()\n",
        "    print(f\"Cantidad de números: {cantidad}\")\n",
        "    print(f\"Promedio de los números: {promedio}\")\n",
        "    respuesta = input(\"¿Desea continuar? (S/N)\").lower()\n",
        "    if respuesta != \"s\":\n",
        "        continuar = False"
      ],
      "metadata": {
        "id": "tX5rhcFH5qEP",
        "colab": {
          "base_uri": "https://localhost:8080/"
        },
        "outputId": "ea2f81b2-4e14-4aba-db88-7b888e0572dc"
      },
      "execution_count": 49,
      "outputs": [
        {
          "name": "stdout",
          "output_type": "stream",
          "text": [
            "Introduce el número inicial del rango: 1\n",
            "Introduce el número final del rango: 4\n",
            "Cantidad de números: 4\n",
            "Promedio de los números: 2.5\n",
            "¿Desea continuar? (S/N)s\n",
            "Introduce el número inicial del rango: 1\n",
            "Introduce el número final del rango: 5\n",
            "Cantidad de números: 5\n",
            "Promedio de los números: 3.0\n",
            "¿Desea continuar? (S/N)n\n"
          ]
        }
      ]
    },
    {
      "cell_type": "code",
      "source": [
        "def leer_rango():\n",
        "    continuar = True\n",
        "    while continuar:\n",
        "        inicio = int(input(\"Introduce el número inicial del rango: \"))\n",
        "        fin = int(input(\"Introduce el número final del rango: \"))\n",
        "        numeros = list(range(inicio, fin+1))\n",
        "        cantidad_numeros = len(numeros)\n",
        "        suma_numeros = sum(numeros)\n",
        "        promedio_numeros = suma_numeros / cantidad_numeros\n",
        "        print(f\"Cantidad de números: {cantidad_numeros}\")\n",
        "        print(f\"Promedio de los números: {promedio_numeros}\")\n",
        "        respuesta = input(\"¿Desea continuar? (S/N)\").lower()\n",
        "        if respuesta != \"s\":\n",
        "            continuar = False"
      ],
      "metadata": {
        "id": "iqh_c-0DE7pr"
      },
      "execution_count": 48,
      "outputs": []
    },
    {
      "cell_type": "markdown",
      "source": [
        "4.- FUNCIÓN QUE RECIBA COMO PARÁMETRO LOS VALORES PARA EL ÁREA DE UN TRIANGULO Y RETORNE SU RESULTADO"
      ],
      "metadata": {
        "id": "BMZqPXyE5qeF"
      }
    },
    {
      "cell_type": "code",
      "source": [
        "def calculo_area(base, altura):\n",
        "    area_triangulo = (base * altura) /2\n",
        "    return area_triangulo\n",
        "\n",
        "try:\n",
        "    base=float(input(\"ingrese la base del triangulo: \"))\n",
        "    altura=float(input(\"ingrese la altura del triangulo: \"))\n",
        "\n",
        "except:\n",
        "    print(\"Por favor, solo ingrese digitos.\")\n",
        "\n",
        "else:\n",
        "    final=calculo_area(base, altura)\n",
        "    print(\"el area del triangulo es: \", final)"
      ],
      "metadata": {
        "colab": {
          "base_uri": "https://localhost:8080/"
        },
        "id": "cFO7GhlZ5q7g",
        "outputId": "a6f0bad9-1423-420d-da59-3a2cec15f24e"
      },
      "execution_count": null,
      "outputs": [
        {
          "output_type": "stream",
          "name": "stdout",
          "text": [
            "ingrese la base del triangulo: 12\n",
            "ingrese la altura del triangulo: 22\n",
            "el area del triangulo es:  132.0\n"
          ]
        }
      ]
    },
    {
      "cell_type": "markdown",
      "source": [
        "5.- FUNCION QUE SIRVA QUE SIRVA PARA EVALUAR EL PROMEDIO DE 3 CALIFICACIONES DADAS, SI EL USUARIO SU CALIFICACION ES APROBADA MANDAR MSGE QUE DIGA \"felicidades avanzas al siguiente semestre\", SI LA CALIFICACIONE ESTA REPROBADA EL MENSAGE \"repetir materia \" EL ALUMNO TENDRA UN MAXIMO DE CURSAR 3 VESES LA MATERIA, SI LA REPRUEBA 3 VESES MANDAR MSGE \" lastima estas fuera de la UABC\""
      ],
      "metadata": {
        "id": "H9kk96sn5y5w"
      }
    },
    {
      "cell_type": "code",
      "source": [
        "def uabc_sauzal(cali1,cali2,cali3):\n",
        "    promedio = (cali1+cali2+cali3) / 3\n",
        "    return promedio\n",
        "\n",
        "\n",
        "try:\n",
        "    intento = 3\n",
        "    while (intento > 0):  \n",
        "        cali1=float(input(\"ingrese la calificacion de la materia: \"))\n",
        "        cali2=float(input(\"ingrese la calificacion de la materia: \"))\n",
        "        cali3=float(input(\"ingrese la calificacion de la materia: \"))\n",
        "        intento-= 1\n",
        "        prome = uabc_sauzal(cali1, cali2, cali3)\n",
        "        if(prome >=60):\n",
        "            print(\"felicidades avanzas al siguiente semestre\")\n",
        "            print(f\"tu promedio fue de: {prome:.2f}\")\n",
        "            break\n",
        "        elif(intento > 0):\n",
        "            print(\"repetir materia\")\n",
        "            print(f\"tu promedio fue de: {prome:.2f}\")\n",
        "except:\n",
        "    print(\"Por favor, solo ingrese digitos.\")\n",
        "\n",
        "else:\n",
        "    if(intento == 0):\n",
        "        print(\"lastima estas fuera de la UABC\")\n",
        "        print(f\"tu promedio fue de: {prome:.2f}\")"
      ],
      "metadata": {
        "colab": {
          "base_uri": "https://localhost:8080/"
        },
        "id": "d0w9wQBNVepc",
        "outputId": "e1918e72-597c-48d2-cf21-bbf5772d132a"
      },
      "execution_count": null,
      "outputs": [
        {
          "output_type": "stream",
          "name": "stdout",
          "text": [
            "ingrese la calificacion de la materia: 45\n",
            "ingrese la calificacion de la materia: 54\n",
            "ingrese la calificacion de la materia: 34\n",
            "repetir materia\n",
            "tu promedio fue de: 44.33\n",
            "ingrese la calificacion de la materia: 23\n",
            "ingrese la calificacion de la materia: 78\n",
            "ingrese la calificacion de la materia: 54\n",
            "repetir materia\n",
            "tu promedio fue de: 51.67\n",
            "ingrese la calificacion de la materia: 23\n",
            "ingrese la calificacion de la materia: 12\n",
            "ingrese la calificacion de la materia: 65\n",
            "lastima estas fuera de la UABC\n",
            "tu promedio fue de: 33.33\n"
          ]
        }
      ]
    },
    {
      "cell_type": "markdown",
      "source": [
        "###https://github.com/MAIKYPORTILLO67/PYTHON"
      ],
      "metadata": {
        "id": "m0sLy0J9JtNl"
      }
    }
  ]
}