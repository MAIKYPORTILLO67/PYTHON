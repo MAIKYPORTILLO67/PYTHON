{
  "nbformat": 4,
  "nbformat_minor": 0,
  "metadata": {
    "colab": {
      "provenance": [],
      "toc_visible": true,
      "authorship_tag": "ABX9TyM7QMiTYNUG6ZWBlGhaRIqu",
      "include_colab_link": true
    },
    "kernelspec": {
      "name": "python3",
      "display_name": "Python 3"
    },
    "language_info": {
      "name": "python"
    }
  },
  "cells": [
    {
      "cell_type": "markdown",
      "metadata": {
        "id": "view-in-github",
        "colab_type": "text"
      },
      "source": [
        "<a href=\"https://colab.research.google.com/github/MAIKYPORTILLO67/PYTHON/blob/main/EJEMPLO.ipynb\" target=\"_parent\"><img src=\"https://colab.research.google.com/assets/colab-badge.svg\" alt=\"Open In Colab\"/></a>"
      ]
    },
    {
      "cell_type": "markdown",
      "source": [
        "#MI PRIMER PROGRAMA EN PYTHON CON COLLABORATORY\n",
        "\n",
        "  **1.-Usar colaboratory**\n",
        "\n",
        "  **2.-Usar github**\n",
        "\n",
        "  **3.-La sentencia de salida print** \n",
        "\n",
        "\n",
        "---\n",
        "# HOLA MUNDO EN PYTHON\n"
      ],
      "metadata": {
        "id": "3OuDkwaOy3S1"
      }
    },
    {
      "cell_type": "code",
      "execution_count": null,
      "metadata": {
        "colab": {
          "base_uri": "https://localhost:8080/"
        },
        "id": "NOTHBTfnxkQo",
        "outputId": "0a6a85ee-037c-4400-d36a-5ee3edc46e83"
      },
      "outputs": [
        {
          "output_type": "stream",
          "name": "stdout",
          "text": [
            "hola maikyy hola mundo\n"
          ]
        }
      ],
      "source": [
        "print(\"hola maikyy hola mundo\")"
      ]
    },
    {
      "cell_type": "markdown",
      "source": [
        "# NOMBRE DEL DESARROLLADOR"
      ],
      "metadata": {
        "id": "__U3P08o1CWe"
      }
    },
    {
      "cell_type": "code",
      "source": [
        "print(\"Miguel Angel Portillo Attwell\") "
      ],
      "metadata": {
        "colab": {
          "base_uri": "https://localhost:8080/"
        },
        "id": "PRIl7OSX0iBf",
        "outputId": "80ef5cb6-6cbc-4ea4-e116-fbc5693a0572"
      },
      "execution_count": null,
      "outputs": [
        {
          "output_type": "stream",
          "name": "stdout",
          "text": [
            "Miguel Angel Portillo Attwell\n"
          ]
        }
      ]
    },
    {
      "cell_type": "code",
      "source": [
        "nombre = input(\"como te llamas? \")\n",
        "apellido = input(\"como te apellidas? \")\n",
        "print(f\"es un gusto conocerte, {nombre} {apellido}\")"
      ],
      "metadata": {
        "colab": {
          "base_uri": "https://localhost:8080/"
        },
        "id": "XJaxUHIFU9_h",
        "outputId": "fa98bcb2-9303-49b2-8445-2c13259c1439"
      },
      "execution_count": 4,
      "outputs": [
        {
          "output_type": "stream",
          "name": "stdout",
          "text": [
            "como te llamas? miguel\n",
            "como te apellidas? portillo\n",
            "es un gusto conocerte, miguel portillo\n"
          ]
        }
      ]
    }
  ]
}