{
  "nbformat": 4,
  "nbformat_minor": 0,
  "metadata": {
    "colab": {
      "provenance": [],
      "authorship_tag": "ABX9TyMbZ6qmv/x1K0J1YtxCgID3",
      "include_colab_link": true
    },
    "kernelspec": {
      "name": "python3",
      "display_name": "Python 3"
    },
    "language_info": {
      "name": "python"
    }
  },
  "cells": [
    {
      "cell_type": "markdown",
      "metadata": {
        "id": "view-in-github",
        "colab_type": "text"
      },
      "source": [
        "<a href=\"https://colab.research.google.com/github/MAIKYPORTILLO67/PYTHON/blob/main/MAPA_ACT3_432.ipynb\" target=\"_parent\"><img src=\"https://colab.research.google.com/assets/colab-badge.svg\" alt=\"Open In Colab\"/></a>"
      ]
    },
    {
      "cell_type": "markdown",
      "source": [
        "#ACTIVIDAD 3\n",
        "\n",
        "Alumno:Portillo Attwell Miguel Angel"
      ],
      "metadata": {
        "id": "tOwr8IgO53Zz"
      }
    },
    {
      "cell_type": "markdown",
      "source": [
        "1.- Algoritmo que lea 3 calificaciones calcule el promedio del alumno y desplegar: \n",
        "\n",
        "Si prom < 30 Repetir\n",
        "\n",
        "Si prom >=30 y prom <60 extraordinario\n",
        "\n",
        "Si prom >=60 y prom <70 suficiente\n",
        "\n",
        "Si prom >=70 y prom <80 Regular\n",
        "\n",
        "Si prom >=80 y prom <90 bien\n",
        "\n",
        "Si prom >=90 y prom <98 muy bien\n",
        "\n",
        "Si prom >=98 y prom <=100 excelente\n",
        "\n",
        "Si prom >100 Error en promedio\n",
        "\n",
        "Realizar el algoritmo optimizado"
      ],
      "metadata": {
        "id": "Z5cS9Fj_qtYa"
      }
    },
    {
      "cell_type": "code",
      "execution_count": null,
      "metadata": {
        "id": "_2Yvl7nv50pH",
        "colab": {
          "base_uri": "https://localhost:8080/"
        },
        "outputId": "60d0fbab-3ddd-4a1a-d93f-a9e1d1992e4f"
      },
      "outputs": [
        {
          "output_type": "stream",
          "name": "stdout",
          "text": [
            "ingrese la primera calificacion: 70\n",
            "ingrese la segunda calificacion: 80\n",
            "ingrese la tercera calificacion: 63\n",
            "Regular\n",
            "El promedio del alumno es: 71.00\n"
          ]
        }
      ],
      "source": [
        "cali1=float(input(\"ingrese la primera calificacion: \"))\n",
        "cali2=float(input(\"ingrese la segunda calificacion: \"))\n",
        "cali3=float(input(\"ingrese la tercera calificacion: \"))\n",
        "\n",
        "promedio=(cali1+cali2+cali3)/3\n",
        "\n",
        "if promedio <= 30:\n",
        "    print(\"Repetir\")\n",
        "elif promedio <= 60:\n",
        "    print(\"extraordinario\")\n",
        "elif promedio <= 70:\n",
        "    print(\"suficiente\")\n",
        "elif promedio <= 80:\n",
        "    print(\"Regular\")\n",
        "elif promedio <= 90:\n",
        "    print(\"bien\")\n",
        "elif promedio <= 98:\n",
        "    print(\"muy bien\")\n",
        "elif promedio <= 100:\n",
        "    print(\"excelente\")\n",
        "else:\n",
        "    print(\"Error en promedio\")\n",
        "\n",
        "print(f\"El promedio del alumno es: {promedio:.2f}\")"
      ]
    },
    {
      "cell_type": "markdown",
      "source": [
        "2.- Algoritmo que sirva para calcular el salario semanal de un trabajador donde se obtiene como dato de entrada las horas semanales trabajadas, el salario por hora. \n",
        "\n",
        "El programa deberá calcular el salario normal, salario extra y salario total, considerando lo siguiente: \n",
        "\n",
        "Jornada Normal de 40 horas. \n",
        "El salario normal se considera las horas trabajadas menores o igual a la jornada normal\n",
        "Salario extra se considera las horas trabajadas mayores a la jornada normal y se pagan dobles las primeras 9 y triples a partir de la décima hora extra \n",
        "\n",
        "\n",
        "Nota: Desplegar todos los datos (Salario x hora, Horas Trabajadas, Salario normal, Salario extra y Salario Total)"
      ],
      "metadata": {
        "id": "OLNQZ9ObquDj"
      }
    },
    {
      "cell_type": "code",
      "source": [
        "horas_trabajadas = int(input(\"ingresar cuantas horas trabajo: \"))\n",
        "pago_por_hora = float(input(\"ingresar el monto por hora: \"))\n",
        "\n",
        "horas_necesarias = 40\n",
        "horas_extra2=pago_por_hora * 2\n",
        "horas_extra3=pago_por_hora * 3\n",
        "\n",
        "if horas_trabajadas <= horas_necesarias:\n",
        "    salario= pago_por_hora * horas_trabajadas\n",
        "    salario_extra=0\n",
        "else:\n",
        "    horas_extra=horas_trabajadas - horas_necesarias\n",
        "    salario=horas_trabajadas * pago_por_hora\n",
        "    if horas_extra<=9:\n",
        "        salario_extra=horas_extra * horas_extra2\n",
        "    else:\n",
        "        salario_extra=9 * horas_extra2\n",
        "        salario_extra +=(horas_extra - 9) * horas_extra3\n",
        "\n",
        "salario_total=salario + salario_extra\n",
        "\n",
        "print(\"Salariopor hora: $\",pago_por_hora)\n",
        "print(\"Horas trabajadas: \",horas_trabajadas)\n",
        "print(\"Salario normal: $\",salario)\n",
        "print(\"Salario extra: $\",salario_extra)\n",
        "print(\"Salario total: $\",salario_total)"
      ],
      "metadata": {
        "colab": {
          "base_uri": "https://localhost:8080/"
        },
        "id": "BnzZsQtaquY3",
        "outputId": "0710ba80-ff16-40c3-907b-2d1c09708bb5"
      },
      "execution_count": null,
      "outputs": [
        {
          "output_type": "stream",
          "name": "stdout",
          "text": [
            "ingresar cuantas horas trabajo: 50\n",
            "ingresar el monto por hora: 350\n",
            "Salariopor hora: $ 350.0\n",
            "Horas trabajadas:  50\n",
            "Salario normal: $ 17500.0\n",
            "Salario extra: $ 7350.0\n",
            "Salario total: $ 24850.0\n"
          ]
        }
      ]
    },
    {
      "cell_type": "markdown",
      "source": [
        "3.- Algoritmo que sirva para desplegar el Total de una llamada telefónica donde se pide como datos de entrada los minutos y el tipo de llamada, se cobra de la siguiente manera:\n",
        "\n",
        "1.- Llamada Local $3.00 sin límite de tiempo \n",
        "\n",
        "2.- Llamada Nacional $7.00 por los 3 primeros minutos y $2.00 minuto adicional \n",
        "\n",
        "3.- Llamada Internacional $9.00 por los 2 primeros minutos y $4.00 minuto adicional\n",
        "\n",
        " Desplegar, Subtotal,Iva (16%) y Total."
      ],
      "metadata": {
        "id": "adKa5OYsqu1L"
      }
    },
    {
      "cell_type": "code",
      "source": [
        "tipo_llamada = int(input(\"Ingrese el tipo de llamada ingresando uno de los siguientes numeros (1: Local, 2: Nacional, 3: Internacional): \"))\n",
        "minutos = int(input(\"Ingrese la cantidad de minutos de la llamada: \"))\n",
        "\n",
        "if tipo_llamada == 1:\n",
        "    costo_llamada = 3.00\n",
        "elif tipo_llamada == 2:\n",
        "    costo_llamada = 7.00 + max(0, minutos - 3) * 2.00\n",
        "else:\n",
        "    costo_llamada = 9.00 + max(0, minutos - 2) * 4.00\n",
        "\n",
        "subtotal = costo_llamada\n",
        "iva = subtotal * 0.16\n",
        "total = subtotal + iva\n",
        "\n",
        "print(\"Subtotal: $%.2f\" % subtotal)\n",
        "print(\"IVA (16%%): $%.2f\" % iva)\n",
        "print(\"Total: $%.2f\" % total)"
      ],
      "metadata": {
        "colab": {
          "base_uri": "https://localhost:8080/"
        },
        "id": "ZA1P1yMlqvJl",
        "outputId": "5c00506e-454c-4a1c-f92f-348c424064cc"
      },
      "execution_count": null,
      "outputs": [
        {
          "output_type": "stream",
          "name": "stdout",
          "text": [
            "Ingrese el tipo de llamada ingresando uno de los siguientes numeros (1: Local, 2: Nacional, 3: Internacional): 2\n",
            "Ingrese la cantidad de minutos de la llamada: 30\n",
            "Subtotal: $61.00\n",
            "IVA (16%): $9.76\n",
            "Total: $70.76\n"
          ]
        }
      ]
    },
    {
      "cell_type": "markdown",
      "source": [
        "4.- Algoritmo que sirva para calcular el Total a pagar por consumo de agua, donde el dato de entrada son los M3 de agua consumidos, Tomar en cuenta que se cobra escalonada de la Siguiente manera: \n",
        "\n",
        "Rango1: 0 al 4 M3 $50 x facturación sin importar cuánto consumió en este rango \n",
        "\n",
        "Rango2: 5 a 15 M3 $8.00 x M3 \n",
        "\n",
        "Rango3: 16 a 50 M3 $10.00 x M3 \n",
        "\n",
        "Rango4: 51 M3 en adelante $11.00 x M3 \n",
        "\n",
        "Nota: Desplegar SubTotal, Iva(16%), y Total a pagar.\n",
        "\n"
      ],
      "metadata": {
        "id": "XfG9cFCSqvcO"
      }
    },
    {
      "cell_type": "code",
      "source": [
        "m3_consumidos = float(input(\"Ingrese los M3 de agua consumidos: \"))\n",
        "\n",
        "if m3_consumidos <= 4:\n",
        "    subtotal = 50\n",
        "elif m3_consumidos <= 15:\n",
        "    subtotal = 50 + ((m3_consumidos - 4) * 8)\n",
        "elif m3_consumidos <= 50:\n",
        "    subtotal = 162 + ((m3_consumidos - 15) * 10)\n",
        "else:\n",
        "    subtotal = 662 + ((m3_consumidos - 50) * 11)\n",
        "\n",
        "iva = subtotal * 0.16\n",
        "total = subtotal + iva\n",
        "\n",
        "print(\"Subtotal a pagar: $\", subtotal)\n",
        "print(\"IVA (16%): $\", iva)\n",
        "print(\"Total a pagar: $\", total)"
      ],
      "metadata": {
        "colab": {
          "base_uri": "https://localhost:8080/"
        },
        "id": "NgT4In1Tqv0P",
        "outputId": "ff719178-d779-423e-f289-3c1451b4c3d1"
      },
      "execution_count": null,
      "outputs": [
        {
          "output_type": "stream",
          "name": "stdout",
          "text": [
            "Ingrese los M3 de agua consumidos: 134\n",
            "Subtotal a pagar: $ 1586.0\n",
            "IVA (16%): $ 253.76000000000002\n",
            "Total a pagar: $ 1839.76\n"
          ]
        }
      ]
    },
    {
      "cell_type": "markdown",
      "source": [
        "5- En la materia de Metodología de la programación se aplican 5 exámenes, calcular el promedio final de la materia donde la calificación menor de los exámenes se anula y el promedio se calcula en base a 4 exámenes.\n",
        "\n",
        "Desplegar el promedio final. "
      ],
      "metadata": {
        "id": "5wvAXb5sqwJc"
      }
    },
    {
      "cell_type": "code",
      "source": [
        "calificaciones = [100, 77, 98, 82, 99]\n",
        "calificaciones_ordenadas = sorted(calificaciones)\n",
        "promedio = sum(calificaciones_ordenadas[1:]) / 4\n",
        "print(promedio)"
      ],
      "metadata": {
        "colab": {
          "base_uri": "https://localhost:8080/"
        },
        "id": "ncFyEf7Zqwai",
        "outputId": "438ef75f-e589-478b-a6d1-496bcca04611"
      },
      "execution_count": null,
      "outputs": [
        {
          "output_type": "stream",
          "name": "stdout",
          "text": [
            "94.75\n"
          ]
        }
      ]
    },
    {
      "cell_type": "markdown",
      "source": [
        "6.- Algoritmo que sirva para el juego del CHINCHAMPU (Piedra, Papel, Tijera) para 1 jugador y la computadora, (usar condición anidada) "
      ],
      "metadata": {
        "id": "hMT4MD6RrYgA"
      }
    },
    {
      "cell_type": "code",
      "source": [
        "import random\n",
        "\n",
        "opciones = [\"piedra\", \"papel\", \"tijera\"]\n",
        "\n",
        "opcion_jugador = input(\"Elige piedra, papel o tijera: \")\n",
        "\n",
        "opcion_computadora = random.choice(opciones)\n",
        "\n",
        "print(\"La computadora eligió:\", opcion_computadora)\n",
        "\n",
        "if opcion_jugador == opcion_computadora:\n",
        "    print(\"Empate!\")\n",
        "elif opcion_jugador == \"piedra\":\n",
        "    if opcion_computadora == \"tijera\":\n",
        "        print(\"Ganaste!\")\n",
        "    else:\n",
        "        print(\"Perdiste!\")\n",
        "elif opcion_jugador == \"papel\":\n",
        "    if opcion_computadora == \"piedra\":\n",
        "        print(\"Ganaste!\")\n",
        "    else:\n",
        "        print(\"Perdiste!\")\n",
        "elif opcion_jugador == \"tijera\":\n",
        "    if opcion_computadora == \"papel\":\n",
        "        print(\"Ganaste!\")\n",
        "    else:\n",
        "        print(\"Perdiste!\")\n",
        "else:\n",
        "    print(\"Opción inválida, intenta de nuevo.\")"
      ],
      "metadata": {
        "colab": {
          "base_uri": "https://localhost:8080/"
        },
        "id": "0JaPlxkurYwo",
        "outputId": "973e8ba7-9cc1-42ef-cb0e-6643227c6d59"
      },
      "execution_count": null,
      "outputs": [
        {
          "output_type": "stream",
          "name": "stdout",
          "text": [
            "Elige piedra, papel o tijera: piedra\n",
            "La computadora eligió: tijera\n",
            "Ganaste!\n"
          ]
        }
      ]
    },
    {
      "cell_type": "markdown",
      "source": [
        "7.- Algoritmo que sirva para el juego del CHINCHAMPU (Piedra, Papel, Tijera) para 1 jugador y la computadora, (usar selección múltiple) \n",
        "\n"
      ],
      "metadata": {
        "id": "KATw35lPrY-z"
      }
    },
    {
      "cell_type": "code",
      "source": [
        "import random\n",
        "\n",
        "print(\"Bienvenido al juego de piedra, papel o tijera\")\n",
        "print(\"Ingrese su jugada: \")\n",
        "jugada = input(\"piedra, papel o tijera: \").lower()\n",
        "\n",
        "if jugada != \"piedra\" and jugada != \"papel\" and jugada != \"tijera\":\n",
        "    print(\"Jugada no válida. Inténtalo de nuevo.\")\n",
        "else:\n",
        "    print(\"Jugador seleccionó:\", jugada)\n",
        "    opciones = [\"piedra\", \"papel\", \"tijera\"]\n",
        "    computadora = random.choice(opciones)\n",
        "    print(\"Computadora seleccionó:\", computadora)\n",
        "\n",
        "    if jugada == computadora:\n",
        "        print(\"Empate!\")\n",
        "    elif jugada == \"piedra\":\n",
        "        if computadora == \"papel\":\n",
        "            print(\"La computadora gana!\")\n",
        "        else:\n",
        "            print(\"El jugador gana!\")\n",
        "    elif jugada == \"papel\":\n",
        "        if computadora == \"tijera\":\n",
        "            print(\"La computadora gana!\")\n",
        "        else:\n",
        "            print(\"El jugador gana!\")\n",
        "    else:\n",
        "        if computadora == \"piedra\":\n",
        "            print(\"La computadora gana!\")\n",
        "        else:\n",
        "            print(\"El jugador gana!\")\n"
      ],
      "metadata": {
        "colab": {
          "base_uri": "https://localhost:8080/"
        },
        "id": "2Gc8HXESrZVL",
        "outputId": "7ecea272-a14f-44f6-aac2-0d0f9aa3ab62"
      },
      "execution_count": null,
      "outputs": [
        {
          "output_type": "stream",
          "name": "stdout",
          "text": [
            "Bienvenido al juego de piedra, papel o tijera\n",
            "Ingrese su jugada: \n",
            "piedra, papel o tijera: piedra\n",
            "Jugador seleccionó: piedra\n",
            "Computadora seleccionó: piedra\n",
            "Empate!\n"
          ]
        }
      ]
    },
    {
      "cell_type": "markdown",
      "source": [
        "8.- Una tienda de electrónica ofrece descuentos a sus clientes, dependiendo del tipo de producto que compren. Si el cliente compra una computadora, tiene un descuento del 5% en el precio de la computadora y un 10% de descuento en una impresora si la compra junto con la computadora. Si el cliente compra una televisión, tiene un descuento del 7% en el precio de la televisión y un 15% de descuento en una barra de sonido si la compra junto con la televisión. Si el cliente compra una consola de videojuegos, tiene un descuento del 10% en el precio de la consola y un 20% de descuento en un juego si lo compra junto con la consola. Escribe un programa que calcule el precio a pagar por un cliente, tomando en cuenta los descuentos correspondientes."
      ],
      "metadata": {
        "id": "ESDSaMOcrgEK"
      }
    },
    {
      "cell_type": "code",
      "source": [
        "precio_computadora = 1000\n",
        "precio_impresora = 200\n",
        "precio_television = 1500\n",
        "precio_barra_sonido = 300\n",
        "precio_consola = 800\n",
        "precio_juego = 100\n",
        "\n",
        "producto = input(\"¿Qué producto compró? (computadora, televisión, o consola): \")\n",
        "adicional = input(\"¿Compró algún producto adicional? (impresora, barra de sonido, o juego): \")\n",
        "\n",
        "descuento_producto = 0\n",
        "descuento_adicional = 0\n",
        "precio_total = 0\n",
        "\n",
        "if producto == \"computadora\":\n",
        "    descuento_producto = precio_computadora * 0.05\n",
        "    precio_total += precio_computadora - descuento_producto\n",
        "    if adicional == \"impresora\":\n",
        "        descuento_adicional = precio_impresora * 0.10\n",
        "        precio_total += precio_impresora - descuento_adicional\n",
        "elif producto == \"televisión\":\n",
        "    descuento_producto = precio_television * 0.07\n",
        "    precio_total += precio_television - descuento_producto\n",
        "    if adicional == \"barra de sonido\":\n",
        "        descuento_adicional = precio_barra_sonido * 0.15\n",
        "        precio_total += precio_barra_sonido - descuento_adicional\n",
        "elif producto == \"consola\":\n",
        "    descuento_producto = precio_consola * 0.10\n",
        "    precio_total += precio_consola - descuento_producto\n",
        "    if adicional == \"juego\":\n",
        "        descuento_adicional = precio_juego * 0.20\n",
        "        precio_total += precio_juego - descuento_adicional\n",
        "\n",
        "print(f\"El precio total a pagar es: {precio_total:.2f}\")\n",
        "print(f\"El descuento del producto es: {descuento_producto:.2f}\")\n",
        "print(f\"El descuento del producto adicional es: {descuento_adicional:.2f}\")"
      ],
      "metadata": {
        "colab": {
          "base_uri": "https://localhost:8080/"
        },
        "id": "QgriBRfmrg9C",
        "outputId": "4260b8bb-299b-4372-c4e1-ce4b25741700"
      },
      "execution_count": null,
      "outputs": [
        {
          "output_type": "stream",
          "name": "stdout",
          "text": [
            "¿Qué producto compró? (computadora, televisión, o consola): consola\n",
            "¿Compró algún producto adicional? (impresora, barra de sonido, o juego): juego\n",
            "El precio total a pagar es: 800.0\n",
            "El descuento del producto es: 80.0\n",
            "El descuento del producto adicional es: 20.0\n"
          ]
        }
      ]
    },
    {
      "cell_type": "markdown",
      "source": [
        "9.- En una tienda de ropa, los precios de los productos cambian dependiendo de la temporada. Durante la temporada de verano, todos los productos tienen un descuento del 20%. Durante la temporada de invierno, los productos con etiqueta roja tienen un descuento del 30% y los productos con etiqueta verde tienen un descuento del 15%. Durante la temporada de primavera y otoño, los productos con etiqueta amarilla tienen un descuento del 10%. Escribe un programa que calcule el precio a pagar por un cliente, tomando en cuenta los descuentos correspondientes."
      ],
      "metadata": {
        "id": "IljLvSmvrjAV"
      }
    },
    {
      "cell_type": "code",
      "source": [
        "precio_camisa = 50\n",
        "precio_pantalon = 70\n",
        "precio_chamarra = 100\n",
        "precio_vestido = 80\n",
        "\n",
        "producto = input(\"¿Qué producto compró? (camisa, pantalon, chamarra, o vestido): \")\n",
        "etiqueta = input(\"¿Qué etiqueta tiene el producto? (roja, verde, amarilla, o ninguna): \")\n",
        "\n",
        "precio_con_descuento = 0\n",
        "temporada = input(\"¿En qué temporada se encuentra? (verano, invierno, primavera, otoño): \")\n",
        "if temporada == \"verano\":\n",
        "    precio_con_descuento = precio_camisa * 0.8 if producto == \"camisa\" else precio_pantalon * 0.8 if producto == \"pantalon\" else precio_chamarra * 0.8 if producto == \"chamarra\" else precio_vestido * 0.8\n",
        "elif temporada == \"invierno\":\n",
        "    if etiqueta == \"roja\":\n",
        "        precio_con_descuento = precio_camisa * 0.7 if producto == \"camisa\" else precio_pantalon * 0.7 if producto == \"pantalon\" else precio_chamarra * 0.7 if producto == \"chamarra\" else precio_vestido * 0.7\n",
        "    elif etiqueta == \"verde\":\n",
        "        precio_con_descuento = precio_camisa * 0.85 if producto == \"camisa\" else precio_pantalon * 0.85 if producto == \"pantalon\" else precio_chamarra * 0.85 if producto == \"chamarra\" else precio_vestido * 0.85\n",
        "    else:\n",
        "        precio_con_descuento = precio_camisa if producto == \"camisa\" else precio_pantalon if producto == \"pantalon\" else precio_chamarra if producto == \"chamarra\" else precio_vestido\n",
        "elif temporada == \"primavera\" or temporada == \"otoño\":\n",
        "    if etiqueta == \"amarilla\":\n",
        "        precio_con_descuento = precio_camisa * 0.9 if producto == \"camisa\" else precio_pantalon * 0.9 if producto == \"pantalon\" else precio_chamarra * 0.9 if producto == \"chamarra\" else precio_vestido * 0.9\n",
        "    else:\n",
        "        precio_con_descuento = precio_camisa if producto == \"camisa\" else precio_pantalon if producto == \"pantalon\" else precio_chamarra if producto == \"chamarra\" else precio_vestido\n",
        "\n",
        "print(f\"El precio total a pagar con el descuento correspondiente es: {precio_con_descuento}\")"
      ],
      "metadata": {
        "colab": {
          "base_uri": "https://localhost:8080/"
        },
        "id": "xkUrll7orkCD",
        "outputId": "859934f7-4f39-49c9-b545-862ea79d87c8"
      },
      "execution_count": null,
      "outputs": [
        {
          "output_type": "stream",
          "name": "stdout",
          "text": [
            "¿Qué producto compró? (camisa, pantalon, chamarra, o vestido): camisa\n",
            "¿Qué etiqueta tiene el producto? (roja, verde, amarilla, o ninguna): roja\n",
            "¿En qué temporada se encuentra? (verano, invierno, primavera, otoño): verano\n",
            "El precio total a pagar con el descuento correspondiente es: 40.0\n"
          ]
        }
      ]
    },
    {
      "cell_type": "markdown",
      "source": [
        "10.- Un restaurante ofrece descuentos a sus clientes, dependiendo del día de la semana y del tipo de menú que pidan. Los lunes, los clientes que pidan el menú del día tienen un descuento del 10%. Los martes, los clientes que pidan el menú infantil tienen un descuento del 20%. Los miércoles, los clientes que pidan el menú vegetariano tienen un descuento del 15%. Los jueves, los clientes que pidan el menú del chef tienen un descuento del 5%. Los viernes, los clientes que pidan el menú del día tienen un descuento del 5%. Los sábados y domingos no hay descuentos. Escribe un programa que calcule el precio a pagar por un cliente, tomando en cuenta los descuentos correspondientes."
      ],
      "metadata": {
        "id": "rxeMKTzOrkW0"
      }
    },
    {
      "cell_type": "code",
      "source": [
        "dia = input(\"Ingrese el día de la semana (lunes a domingo): \")\n",
        "menu = input(\"Ingrese el tipo de menú (menu del dia, menu infantil, menu vegetariano, menu del chef): \")\n",
        "\n",
        "precio_menu_dia = 10.00\n",
        "precio_menu_infantil = 8.00\n",
        "precio_menu_vegetariano = 12.00\n",
        "precio_menu_chef = 20.00\n",
        "\n",
        "if dia == \"lunes\" and menu == \"menu del dia\":\n",
        "    precio_final = precio_menu_dia * 0.9\n",
        "elif dia == \"martes\" and menu == \"menu infantil\":\n",
        "    precio_final = precio_menu_infantil * 0.8\n",
        "elif dia == \"miércoles\" and menu == \"menu vegetariano\":\n",
        "    precio_final = precio_menu_vegetariano * 0.85\n",
        "elif dia == \"jueves\" and menu == \"menu del chef\":\n",
        "    precio_final = precio_menu_chef * 0.95\n",
        "elif dia == \"viernes\" and menu == \"menu del dia\":\n",
        "    precio_final = precio_menu_dia * 0.95\n",
        "else:\n",
        "    precio_final = 0\n",
        "\n",
        "if precio_final > 0:\n",
        "    print(\"El precio final es: $\" + str(precio_final))\n",
        "else:\n",
        "    print(\"No se encontró descuento para el día y/o menú especificado.\")"
      ],
      "metadata": {
        "colab": {
          "base_uri": "https://localhost:8080/"
        },
        "id": "Q6jvxoFxrnqj",
        "outputId": "ecf251f3-36e1-41ac-e7e1-314ec7a43b87"
      },
      "execution_count": null,
      "outputs": [
        {
          "output_type": "stream",
          "name": "stdout",
          "text": [
            "Ingrese el día de la semana (lunes a domingo): viernes\n",
            "Ingrese el tipo de menú (menu del dia, menu infantil, menu vegetariano, menu del chef): menu del dia\n",
            "El precio final es: $9.5\n"
          ]
        }
      ]
    }
  ]
}